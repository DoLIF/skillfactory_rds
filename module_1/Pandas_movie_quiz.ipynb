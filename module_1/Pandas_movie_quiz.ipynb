{
  "nbformat": 4,
  "nbformat_minor": 0,
  "metadata": {
    "kernelspec": {
      "display_name": "Python 3",
      "language": "python",
      "name": "python3"
    },
    "language_info": {
      "codemirror_mode": {
        "name": "ipython",
        "version": 3
      },
      "file_extension": ".py",
      "mimetype": "text/x-python",
      "name": "python",
      "nbconvert_exporter": "python",
      "pygments_lexer": "ipython3",
      "version": "3.6.6"
    },
    "colab": {
      "name": "[SF-DST] Movies IMBD v3.0.ipynb",
      "provenance": [],
      "collapsed_sections": []
    }
  },
  "cells": [
    {
      "cell_type": "code",
      "metadata": {
        "_cell_guid": "b1076dfc-b9ad-4769-8c92-a6c4dae69d19",
        "_uuid": "8f2839f25d086af736a60e9eeb907d3b93b6e0e5",
        "trusted": true,
        "id": "Z8dB62oBa1sK",
        "colab_type": "code",
        "colab": {}
      },
      "source": [
        "import numpy as np\n",
        "import pandas as pd\n",
        "import seaborn as sns\n",
        "import matplotlib.pyplot as plt\n",
        "import os\n",
        "from collections import Counter\n",
        "import collections\n",
        "# print(os.listdir(\"../input\"))\n"
      ],
      "execution_count": 0,
      "outputs": []
    },
    {
      "cell_type": "code",
      "metadata": {
        "trusted": true,
        "id": "aVI13BS6a1sR",
        "colab_type": "code",
        "outputId": "00f28a97-be93-4d72-a5fa-6ccd3f266e9b",
        "colab": {
          "resources": {
            "http://localhost:8080/nbextensions/google.colab/files.js": {
              "data": "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",
              "ok": true,
              "headers": [
                [
                  "content-type",
                  "application/javascript"
                ]
              ],
              "status": 200,
              "status_text": ""
            }
          },
          "base_uri": "https://localhost:8080/",
          "height": 75
        }
      },
      "source": [
        "#data = pd.read_csv('../input/imbd-sf/data.csv')\n",
        "#data.head(5)\n",
        "# в Google colab csv загружаются так:\n",
        "\n",
        "from google.colab import files\n",
        "uploaded = files.upload()\n"
      ],
      "execution_count": 0,
      "outputs": [
        {
          "output_type": "display_data",
          "data": {
            "text/html": [
              "\n",
              "     <input type=\"file\" id=\"files-73abab60-37de-413e-af33-be86abcf1652\" name=\"files[]\" multiple disabled />\n",
              "     <output id=\"result-73abab60-37de-413e-af33-be86abcf1652\">\n",
              "      Upload widget is only available when the cell has been executed in the\n",
              "      current browser session. Please rerun this cell to enable.\n",
              "      </output>\n",
              "      <script src=\"/nbextensions/google.colab/files.js\"></script> "
            ],
            "text/plain": [
              "<IPython.core.display.HTML object>"
            ]
          },
          "metadata": {
            "tags": []
          }
        },
        {
          "output_type": "stream",
          "text": [
            "Saving data.csv to data.csv\n"
          ],
          "name": "stdout"
        }
      ]
    },
    {
      "cell_type": "code",
      "metadata": {
        "id": "vGkO4rgCst5J",
        "colab_type": "code",
        "colab": {}
      },
      "source": [
        "import io\n",
        "df = pd.read_csv(io.BytesIO(uploaded['data.csv'])) #Upload dataset\n",
        "\n",
        "df['loss'] = df['revenue'] - df['budget'] #add revenue column\n",
        "df['year'] = df.release_date.apply(lambda x : int(x[-4:])) # add year of release column\n",
        "df['genre_list'] = df.genres.apply(lambda x : Counter(x.split('|'))) # add column with list of genres of the movie\n",
        "df['director_list'] = df.director.apply(lambda x : Counter(x.split('|'))) # add column with list of directors of the movie\n",
        "df['actor_list'] = df.cast.apply(lambda x: x.split('|')) # add column with list of actors of the movie\n",
        "df['income_pre_actor'] = df['loss']/len(df['actor_list']) # add column with revenue per actor\n",
        "df['studio_list'] = df.production_companies.apply(lambda x : x.split('|')) # add column with list of studios of the movie\n",
        "df['month'] = df.release_date.apply(lambda x : int(x[:x.find('/')]))  # add month of release column\n",
        "df['symbols'] = df.original_title.apply(lambda x: len(x)) # add number of symbols in title column\n",
        "df['words'] = df.original_title.apply(lambda x: len(x.split())) # add number of words in title column\n",
        "df['title_list'] = df.original_title.apply(lambda x: x.split())# add column with list of words in title"
      ],
      "execution_count": 0,
      "outputs": []
    },
    {
      "cell_type": "code",
      "metadata": {
        "trusted": true,
        "id": "FBzVNnTja1sV",
        "colab_type": "code",
        "outputId": "d34554ec-c81c-40cc-ada1-ad12961f67e1",
        "colab": {
          "base_uri": "https://localhost:8080/",
          "height": 35
        }
      },
      "source": [
        "len(df)"
      ],
      "execution_count": 0,
      "outputs": [
        {
          "output_type": "execute_result",
          "data": {
            "text/plain": [
              "1890"
            ]
          },
          "metadata": {
            "tags": []
          },
          "execution_count": 6
        }
      ]
    },
    {
      "cell_type": "markdown",
      "metadata": {
        "id": "WrcTIjq_a1sX",
        "colab_type": "text"
      },
      "source": [
        "# Предобработка датасета"
      ]
    },
    {
      "cell_type": "code",
      "metadata": {
        "trusted": true,
        "id": "tpk4PO9Ya1sY",
        "colab_type": "code",
        "colab": {}
      },
      "source": [
        "answer_ls = [] # создадим список с ответами. сюда будем добавлять ответы по мере прохождения теста\n",
        "# сюда можем вписать создание новых колонок в датасете"
      ],
      "execution_count": 0,
      "outputs": []
    },
    {
      "cell_type": "markdown",
      "metadata": {
        "id": "gOsrjq-Wa1sa",
        "colab_type": "text"
      },
      "source": [
        "# 1. У какого фильма из списка самый большой бюджет?\n",
        "Варианты ответов:\n",
        "1. The Dark Knight Rises (tt1345836)\n",
        "2. Spider-Man 3 (tt0413300)\n",
        "3. Avengers: Age of Ultron (tt2395427)\n",
        "4. The Warrior's Way\t(tt1032751)\n",
        "5. Pirates of the Caribbean: On Stranger Tides (tt1298650)"
      ]
    },
    {
      "cell_type": "code",
      "metadata": {
        "id": "kfaImXRUfl_X",
        "colab_type": "code",
        "outputId": "a9ab7f6c-7b95-4d5a-d89c-706adcb94929",
        "colab": {
          "base_uri": "https://localhost:8080/",
          "height": 104
        }
      },
      "source": [
        "df.columns"
      ],
      "execution_count": 0,
      "outputs": [
        {
          "output_type": "execute_result",
          "data": {
            "text/plain": [
              "Index(['imdb_id', 'popularity', 'budget', 'revenue', 'original_title', 'cast',\n",
              "       'director', 'tagline', 'overview', 'runtime', 'genres',\n",
              "       'production_companies', 'release_date', 'vote_count', 'vote_average',\n",
              "       'release_year'],\n",
              "      dtype='object')"
            ]
          },
          "metadata": {
            "tags": []
          },
          "execution_count": 6
        }
      ]
    },
    {
      "cell_type": "code",
      "metadata": {
        "id": "xlOvSvACtBdL",
        "colab_type": "code",
        "outputId": "c1e24611-02d5-4012-f6b0-c4556a53c240",
        "colab": {
          "base_uri": "https://localhost:8080/",
          "height": 203
        }
      },
      "source": [
        "df.sort_values(by ='budget', axis=0, ascending = False).head(1)"
      ],
      "execution_count": 0,
      "outputs": [
        {
          "output_type": "execute_result",
          "data": {
            "text/html": [
              "<div>\n",
              "<style scoped>\n",
              "    .dataframe tbody tr th:only-of-type {\n",
              "        vertical-align: middle;\n",
              "    }\n",
              "\n",
              "    .dataframe tbody tr th {\n",
              "        vertical-align: top;\n",
              "    }\n",
              "\n",
              "    .dataframe thead th {\n",
              "        text-align: right;\n",
              "    }\n",
              "</style>\n",
              "<table border=\"1\" class=\"dataframe\">\n",
              "  <thead>\n",
              "    <tr style=\"text-align: right;\">\n",
              "      <th></th>\n",
              "      <th>imdb_id</th>\n",
              "      <th>popularity</th>\n",
              "      <th>budget</th>\n",
              "      <th>revenue</th>\n",
              "      <th>original_title</th>\n",
              "      <th>cast</th>\n",
              "      <th>director</th>\n",
              "      <th>tagline</th>\n",
              "      <th>overview</th>\n",
              "      <th>runtime</th>\n",
              "      <th>genres</th>\n",
              "      <th>production_companies</th>\n",
              "      <th>release_date</th>\n",
              "      <th>vote_count</th>\n",
              "      <th>vote_average</th>\n",
              "      <th>release_year</th>\n",
              "      <th>loss</th>\n",
              "      <th>year</th>\n",
              "      <th>genre_list</th>\n",
              "      <th>director_list</th>\n",
              "      <th>actor_list</th>\n",
              "      <th>income_pre_actor</th>\n",
              "      <th>studio_list</th>\n",
              "    </tr>\n",
              "  </thead>\n",
              "  <tbody>\n",
              "    <tr>\n",
              "      <th>491</th>\n",
              "      <td>tt1032751</td>\n",
              "      <td>0.25054</td>\n",
              "      <td>425000000</td>\n",
              "      <td>11087569</td>\n",
              "      <td>The Warrior's Way</td>\n",
              "      <td>Kate Bosworth|Jang Dong-gun|Geoffrey Rush|Dann...</td>\n",
              "      <td>Sngmoo Lee</td>\n",
              "      <td>Assassin. Hero. Legend.</td>\n",
              "      <td>An Asian assassin (Dong-gun Jang) is forced to...</td>\n",
              "      <td>100</td>\n",
              "      <td>Adventure|Fantasy|Action|Western|Thriller</td>\n",
              "      <td>Boram Entertainment Inc.</td>\n",
              "      <td>12/2/2010</td>\n",
              "      <td>74</td>\n",
              "      <td>6.4</td>\n",
              "      <td>2010</td>\n",
              "      <td>-413912431</td>\n",
              "      <td>2010</td>\n",
              "      <td>{'Adventure': 1, 'Fantasy': 1, 'Action': 1, 'W...</td>\n",
              "      <td>{'Sngmoo Lee': 1}</td>\n",
              "      <td>[Kate Bosworth, Jang Dong-gun, Geoffrey Rush, ...</td>\n",
              "      <td>-219001.286243</td>\n",
              "      <td>[Boram Entertainment Inc.]</td>\n",
              "    </tr>\n",
              "  </tbody>\n",
              "</table>\n",
              "</div>"
            ],
            "text/plain": [
              "       imdb_id  popularity  ...  income_pre_actor                 studio_list\n",
              "491  tt1032751     0.25054  ...    -219001.286243  [Boram Entertainment Inc.]\n",
              "\n",
              "[1 rows x 23 columns]"
            ]
          },
          "metadata": {
            "tags": []
          },
          "execution_count": 42
        }
      ]
    },
    {
      "cell_type": "code",
      "metadata": {
        "trusted": true,
        "id": "vwppLNeTa1sb",
        "colab_type": "code",
        "colab": {}
      },
      "source": [
        "# тут вводим ваш ответ и добавлем в его список ответов (сейчас для примера стоит \"1\")\n",
        "answer_ls.append(4)"
      ],
      "execution_count": 0,
      "outputs": []
    },
    {
      "cell_type": "markdown",
      "metadata": {
        "id": "PUsyZl06a1sd",
        "colab_type": "text"
      },
      "source": [
        "# 2. Какой из фильмов самый длительный (в минутах)\n",
        "1. The Lord of the Rings: The Return of the King\t(tt0167260)\n",
        "2. Gods and Generals\t(tt0279111)\n",
        "3. King Kong\t(tt0360717)\n",
        "4. Pearl Harbor\t(tt0213149)\n",
        "5. Alexander\t(tt0346491)"
      ]
    },
    {
      "cell_type": "code",
      "metadata": {
        "id": "bIeP7uQBtQ85",
        "colab_type": "code",
        "outputId": "2d50a7f3-d10d-4d33-ce45-427254b67191",
        "colab": {
          "base_uri": "https://localhost:8080/",
          "height": 203
        }
      },
      "source": [
        "df.sort_values(by = 'runtime', axis = 0, ascending=False).head(1)"
      ],
      "execution_count": 0,
      "outputs": [
        {
          "output_type": "execute_result",
          "data": {
            "text/html": [
              "<div>\n",
              "<style scoped>\n",
              "    .dataframe tbody tr th:only-of-type {\n",
              "        vertical-align: middle;\n",
              "    }\n",
              "\n",
              "    .dataframe tbody tr th {\n",
              "        vertical-align: top;\n",
              "    }\n",
              "\n",
              "    .dataframe thead th {\n",
              "        text-align: right;\n",
              "    }\n",
              "</style>\n",
              "<table border=\"1\" class=\"dataframe\">\n",
              "  <thead>\n",
              "    <tr style=\"text-align: right;\">\n",
              "      <th></th>\n",
              "      <th>imdb_id</th>\n",
              "      <th>popularity</th>\n",
              "      <th>budget</th>\n",
              "      <th>revenue</th>\n",
              "      <th>original_title</th>\n",
              "      <th>cast</th>\n",
              "      <th>director</th>\n",
              "      <th>tagline</th>\n",
              "      <th>overview</th>\n",
              "      <th>runtime</th>\n",
              "      <th>genres</th>\n",
              "      <th>production_companies</th>\n",
              "      <th>release_date</th>\n",
              "      <th>vote_count</th>\n",
              "      <th>vote_average</th>\n",
              "      <th>release_year</th>\n",
              "      <th>loss</th>\n",
              "      <th>year</th>\n",
              "      <th>genre_list</th>\n",
              "      <th>director_list</th>\n",
              "      <th>actor_list</th>\n",
              "      <th>income_pre_actor</th>\n",
              "      <th>studio_list</th>\n",
              "    </tr>\n",
              "  </thead>\n",
              "  <tbody>\n",
              "    <tr>\n",
              "      <th>1158</th>\n",
              "      <td>tt0279111</td>\n",
              "      <td>0.469518</td>\n",
              "      <td>56000000</td>\n",
              "      <td>12923936</td>\n",
              "      <td>Gods and Generals</td>\n",
              "      <td>Stephen Lang|Jeff Daniels|Robert Duvall|Kevin ...</td>\n",
              "      <td>Ronald F. Maxwell</td>\n",
              "      <td>The nations heart was touched by...</td>\n",
              "      <td>The film centers mostly around the personal an...</td>\n",
              "      <td>214</td>\n",
              "      <td>Drama|History|War</td>\n",
              "      <td>Turner Pictures|Antietam Filmworks</td>\n",
              "      <td>2/21/2003</td>\n",
              "      <td>23</td>\n",
              "      <td>5.8</td>\n",
              "      <td>2003</td>\n",
              "      <td>-43076064</td>\n",
              "      <td>2003</td>\n",
              "      <td>{'Drama': 1, 'History': 1, 'War': 1}</td>\n",
              "      <td>{'Ronald F. Maxwell': 1}</td>\n",
              "      <td>[Stephen Lang, Jeff Daniels, Robert Duvall, Ke...</td>\n",
              "      <td>-22791.568254</td>\n",
              "      <td>[Turner Pictures, Antietam Filmworks]</td>\n",
              "    </tr>\n",
              "  </tbody>\n",
              "</table>\n",
              "</div>"
            ],
            "text/plain": [
              "        imdb_id  ...                            studio_list\n",
              "1158  tt0279111  ...  [Turner Pictures, Antietam Filmworks]\n",
              "\n",
              "[1 rows x 23 columns]"
            ]
          },
          "metadata": {
            "tags": []
          },
          "execution_count": 44
        }
      ]
    },
    {
      "cell_type": "code",
      "metadata": {
        "trusted": true,
        "id": "oZcW6MUNa1se",
        "colab_type": "code",
        "colab": {}
      },
      "source": [
        "answer_ls.append(2)"
      ],
      "execution_count": 0,
      "outputs": []
    },
    {
      "cell_type": "markdown",
      "metadata": {
        "id": "tiNJQMYva1sh",
        "colab_type": "text"
      },
      "source": [
        "# 3. Какой из фильмов самый короткий (в минутах)\n",
        "Варианты ответов:\n",
        "\n",
        "1. Home on the Range\ttt0299172\n",
        "2. The Jungle Book 2\ttt0283426\n",
        "3. Winnie the Pooh\ttt1449283\n",
        "4. Corpse Bride\ttt0121164\n",
        "5. Hoodwinked!\ttt0443536"
      ]
    },
    {
      "cell_type": "code",
      "metadata": {
        "id": "Ed0IqQa6tamU",
        "colab_type": "code",
        "outputId": "04a6061f-f483-4dd0-b593-d82cee199203",
        "colab": {
          "base_uri": "https://localhost:8080/",
          "height": 203
        }
      },
      "source": [
        "df.sort_values(by = 'runtime', axis = 0, ascending=True).head(1)"
      ],
      "execution_count": 0,
      "outputs": [
        {
          "output_type": "execute_result",
          "data": {
            "text/html": [
              "<div>\n",
              "<style scoped>\n",
              "    .dataframe tbody tr th:only-of-type {\n",
              "        vertical-align: middle;\n",
              "    }\n",
              "\n",
              "    .dataframe tbody tr th {\n",
              "        vertical-align: top;\n",
              "    }\n",
              "\n",
              "    .dataframe thead th {\n",
              "        text-align: right;\n",
              "    }\n",
              "</style>\n",
              "<table border=\"1\" class=\"dataframe\">\n",
              "  <thead>\n",
              "    <tr style=\"text-align: right;\">\n",
              "      <th></th>\n",
              "      <th>imdb_id</th>\n",
              "      <th>popularity</th>\n",
              "      <th>budget</th>\n",
              "      <th>revenue</th>\n",
              "      <th>original_title</th>\n",
              "      <th>cast</th>\n",
              "      <th>director</th>\n",
              "      <th>tagline</th>\n",
              "      <th>overview</th>\n",
              "      <th>runtime</th>\n",
              "      <th>genres</th>\n",
              "      <th>production_companies</th>\n",
              "      <th>release_date</th>\n",
              "      <th>vote_count</th>\n",
              "      <th>vote_average</th>\n",
              "      <th>release_year</th>\n",
              "      <th>loss</th>\n",
              "      <th>year</th>\n",
              "      <th>genre_list</th>\n",
              "      <th>director_list</th>\n",
              "      <th>actor_list</th>\n",
              "      <th>income_pre_actor</th>\n",
              "      <th>studio_list</th>\n",
              "    </tr>\n",
              "  </thead>\n",
              "  <tbody>\n",
              "    <tr>\n",
              "      <th>769</th>\n",
              "      <td>tt1449283</td>\n",
              "      <td>1.425344</td>\n",
              "      <td>30000000</td>\n",
              "      <td>14460000</td>\n",
              "      <td>Winnie the Pooh</td>\n",
              "      <td>Jim Cummings|Travis Oates|Jim Cummings|Bud Luc...</td>\n",
              "      <td>Stephen Anderson|Don Hall</td>\n",
              "      <td>Oh Pooh.</td>\n",
              "      <td>During an ordinary day in Hundred Acre Wood, W...</td>\n",
              "      <td>63</td>\n",
              "      <td>Animation|Family</td>\n",
              "      <td>Walt Disney Pictures|Walt Disney Animation Stu...</td>\n",
              "      <td>4/13/2011</td>\n",
              "      <td>174</td>\n",
              "      <td>6.8</td>\n",
              "      <td>2011</td>\n",
              "      <td>-15540000</td>\n",
              "      <td>2011</td>\n",
              "      <td>{'Animation': 1, 'Family': 1}</td>\n",
              "      <td>{'Stephen Anderson': 1, 'Don Hall': 1}</td>\n",
              "      <td>[Jim Cummings, Travis Oates, Jim Cummings, Bud...</td>\n",
              "      <td>-8222.222222</td>\n",
              "      <td>[Walt Disney Pictures, Walt Disney Animation S...</td>\n",
              "    </tr>\n",
              "  </tbody>\n",
              "</table>\n",
              "</div>"
            ],
            "text/plain": [
              "       imdb_id  ...                                        studio_list\n",
              "769  tt1449283  ...  [Walt Disney Pictures, Walt Disney Animation S...\n",
              "\n",
              "[1 rows x 23 columns]"
            ]
          },
          "metadata": {
            "tags": []
          },
          "execution_count": 46
        }
      ]
    },
    {
      "cell_type": "code",
      "metadata": {
        "trusted": true,
        "id": "izVe_SsHa1sh",
        "colab_type": "code",
        "colab": {}
      },
      "source": [
        "answer_ls.append(3)"
      ],
      "execution_count": 0,
      "outputs": []
    },
    {
      "cell_type": "markdown",
      "metadata": {
        "id": "VBqvqBqZa1sk",
        "colab_type": "text"
      },
      "source": [
        "# 4. Средняя длительность фильма?\n",
        "\n",
        "Варианты ответов:\n",
        "1. 115\n",
        "2. 110\n",
        "3. 105\n",
        "4. 120\n",
        "5. 100\n"
      ]
    },
    {
      "cell_type": "code",
      "metadata": {
        "id": "JB9iU0FivYZg",
        "colab_type": "code",
        "outputId": "7a076db7-61c6-419d-f4d3-01b893e2de80",
        "colab": {
          "base_uri": "https://localhost:8080/",
          "height": 35
        }
      },
      "source": [
        "round(df.runtime.mean())"
      ],
      "execution_count": 0,
      "outputs": [
        {
          "output_type": "execute_result",
          "data": {
            "text/plain": [
              "110"
            ]
          },
          "metadata": {
            "tags": []
          },
          "execution_count": 17
        }
      ]
    },
    {
      "cell_type": "code",
      "metadata": {
        "trusted": true,
        "id": "ptXjK1wRa1sk",
        "colab_type": "code",
        "colab": {}
      },
      "source": [
        "answer_ls.append(2)"
      ],
      "execution_count": 0,
      "outputs": []
    },
    {
      "cell_type": "markdown",
      "metadata": {
        "id": "r4OeFXxJa1sm",
        "colab_type": "text"
      },
      "source": [
        "# 5. Средняя длительность фильма по медиане?\n",
        "Варианты ответов:\n",
        "1. 106\n",
        "2. 112\n",
        "3. 101\n",
        "4. 120\n",
        "5. 115\n",
        "\n",
        "\n"
      ]
    },
    {
      "cell_type": "code",
      "metadata": {
        "id": "RjRKbVJ_wlIt",
        "colab_type": "code",
        "outputId": "6d3e06ea-a39f-4f92-ac00-c0be1237f65d",
        "colab": {
          "base_uri": "https://localhost:8080/",
          "height": 35
        }
      },
      "source": [
        "round(df.runtime.median())"
      ],
      "execution_count": 0,
      "outputs": [
        {
          "output_type": "execute_result",
          "data": {
            "text/plain": [
              "106"
            ]
          },
          "metadata": {
            "tags": []
          },
          "execution_count": 19
        }
      ]
    },
    {
      "cell_type": "code",
      "metadata": {
        "trusted": true,
        "id": "06-NUsDga1sn",
        "colab_type": "code",
        "colab": {}
      },
      "source": [
        "answer_ls.append(1)"
      ],
      "execution_count": 0,
      "outputs": []
    },
    {
      "cell_type": "markdown",
      "metadata": {
        "id": "1Th8aVbBa1sp",
        "colab_type": "text"
      },
      "source": [
        "# 6. Какой самый прибыльный фильм?\n",
        "Варианты ответов:\n",
        "1. The Avengers\ttt0848228\n",
        "2. Minions\ttt2293640\n",
        "3. Star Wars: The Force Awakens\ttt2488496\n",
        "4. Furious 7\ttt2820852\n",
        "5. Avatar\ttt0499549"
      ]
    },
    {
      "cell_type": "code",
      "metadata": {
        "id": "bZiSp0PRwvvE",
        "colab_type": "code",
        "outputId": "4772e8cc-34d9-4a82-9b8c-5f21a54935c5",
        "colab": {
          "base_uri": "https://localhost:8080/",
          "height": 186
        }
      },
      "source": [
        "df[df.revenue ==  df['revenue'].max()]"
      ],
      "execution_count": 0,
      "outputs": [
        {
          "output_type": "execute_result",
          "data": {
            "text/html": [
              "<div>\n",
              "<style scoped>\n",
              "    .dataframe tbody tr th:only-of-type {\n",
              "        vertical-align: middle;\n",
              "    }\n",
              "\n",
              "    .dataframe tbody tr th {\n",
              "        vertical-align: top;\n",
              "    }\n",
              "\n",
              "    .dataframe thead th {\n",
              "        text-align: right;\n",
              "    }\n",
              "</style>\n",
              "<table border=\"1\" class=\"dataframe\">\n",
              "  <thead>\n",
              "    <tr style=\"text-align: right;\">\n",
              "      <th></th>\n",
              "      <th>imdb_id</th>\n",
              "      <th>popularity</th>\n",
              "      <th>budget</th>\n",
              "      <th>revenue</th>\n",
              "      <th>original_title</th>\n",
              "      <th>cast</th>\n",
              "      <th>director</th>\n",
              "      <th>tagline</th>\n",
              "      <th>overview</th>\n",
              "      <th>runtime</th>\n",
              "      <th>genres</th>\n",
              "      <th>production_companies</th>\n",
              "      <th>release_date</th>\n",
              "      <th>vote_count</th>\n",
              "      <th>vote_average</th>\n",
              "      <th>release_year</th>\n",
              "    </tr>\n",
              "  </thead>\n",
              "  <tbody>\n",
              "    <tr>\n",
              "      <th>239</th>\n",
              "      <td>tt0499549</td>\n",
              "      <td>9.432768</td>\n",
              "      <td>237000000</td>\n",
              "      <td>2781505847</td>\n",
              "      <td>Avatar</td>\n",
              "      <td>Sam Worthington|Zoe Saldana|Sigourney Weaver|S...</td>\n",
              "      <td>James Cameron</td>\n",
              "      <td>Enter the World of Pandora.</td>\n",
              "      <td>In the 22nd century, a paraplegic Marine is di...</td>\n",
              "      <td>162</td>\n",
              "      <td>Action|Adventure|Fantasy|Science Fiction</td>\n",
              "      <td>Ingenious Film Partners|Twentieth Century Fox ...</td>\n",
              "      <td>12/10/2009</td>\n",
              "      <td>8458</td>\n",
              "      <td>7.1</td>\n",
              "      <td>2009</td>\n",
              "    </tr>\n",
              "  </tbody>\n",
              "</table>\n",
              "</div>"
            ],
            "text/plain": [
              "       imdb_id  popularity     budget  ...  vote_count vote_average release_year\n",
              "239  tt0499549    9.432768  237000000  ...        8458          7.1         2009\n",
              "\n",
              "[1 rows x 16 columns]"
            ]
          },
          "metadata": {
            "tags": []
          },
          "execution_count": 25
        }
      ]
    },
    {
      "cell_type": "code",
      "metadata": {
        "trusted": true,
        "id": "sKMdjff0a1sp",
        "colab_type": "code",
        "colab": {}
      },
      "source": [
        "answer_ls.append(5)"
      ],
      "execution_count": 0,
      "outputs": []
    },
    {
      "cell_type": "markdown",
      "metadata": {
        "id": "JDIkrfbVa1sr",
        "colab_type": "text"
      },
      "source": [
        "# 7. Какой фильм самый убыточный?\n",
        "Варианты ответов:\n",
        "1. Supernova tt0134983\n",
        "2. The Warrior's Way tt1032751\n",
        "3. Flushed Away\ttt0424095\n",
        "4. The Adventures of Pluto Nash\ttt0180052\n",
        "5. The Lone Ranger\ttt1210819"
      ]
    },
    {
      "cell_type": "code",
      "metadata": {
        "id": "Yx1GUfSKxTdw",
        "colab_type": "code",
        "outputId": "f3d3ccca-f78f-4627-c77a-0f568f1aa6f4",
        "colab": {
          "base_uri": "https://localhost:8080/",
          "height": 203
        }
      },
      "source": [
        "df['loss'] = df['revenue'] - df['budget']\n",
        "df[df['loss'] == df['loss'].min()]"
      ],
      "execution_count": 0,
      "outputs": [
        {
          "output_type": "execute_result",
          "data": {
            "text/html": [
              "<div>\n",
              "<style scoped>\n",
              "    .dataframe tbody tr th:only-of-type {\n",
              "        vertical-align: middle;\n",
              "    }\n",
              "\n",
              "    .dataframe tbody tr th {\n",
              "        vertical-align: top;\n",
              "    }\n",
              "\n",
              "    .dataframe thead th {\n",
              "        text-align: right;\n",
              "    }\n",
              "</style>\n",
              "<table border=\"1\" class=\"dataframe\">\n",
              "  <thead>\n",
              "    <tr style=\"text-align: right;\">\n",
              "      <th></th>\n",
              "      <th>imdb_id</th>\n",
              "      <th>popularity</th>\n",
              "      <th>budget</th>\n",
              "      <th>revenue</th>\n",
              "      <th>original_title</th>\n",
              "      <th>cast</th>\n",
              "      <th>director</th>\n",
              "      <th>tagline</th>\n",
              "      <th>overview</th>\n",
              "      <th>runtime</th>\n",
              "      <th>genres</th>\n",
              "      <th>production_companies</th>\n",
              "      <th>release_date</th>\n",
              "      <th>vote_count</th>\n",
              "      <th>vote_average</th>\n",
              "      <th>release_year</th>\n",
              "      <th>loss</th>\n",
              "      <th>year</th>\n",
              "      <th>actor</th>\n",
              "    </tr>\n",
              "  </thead>\n",
              "  <tbody>\n",
              "    <tr>\n",
              "      <th>491</th>\n",
              "      <td>tt1032751</td>\n",
              "      <td>0.25054</td>\n",
              "      <td>425000000</td>\n",
              "      <td>11087569</td>\n",
              "      <td>The Warrior's Way</td>\n",
              "      <td>Kate Bosworth|Jang Dong-gun|Geoffrey Rush|Dann...</td>\n",
              "      <td>Sngmoo Lee</td>\n",
              "      <td>Assassin. Hero. Legend.</td>\n",
              "      <td>An Asian assassin (Dong-gun Jang) is forced to...</td>\n",
              "      <td>100</td>\n",
              "      <td>Adventure|Fantasy|Action|Western|Thriller</td>\n",
              "      <td>Boram Entertainment Inc.</td>\n",
              "      <td>12/2/2010</td>\n",
              "      <td>74</td>\n",
              "      <td>6.4</td>\n",
              "      <td>2010</td>\n",
              "      <td>-413912431</td>\n",
              "      <td>2010</td>\n",
              "      <td>[Kate Bosworth, Jang Dong-gun, Geoffrey Rush, ...</td>\n",
              "    </tr>\n",
              "  </tbody>\n",
              "</table>\n",
              "</div>"
            ],
            "text/plain": [
              "       imdb_id  ...                                              actor\n",
              "491  tt1032751  ...  [Kate Bosworth, Jang Dong-gun, Geoffrey Rush, ...\n",
              "\n",
              "[1 rows x 19 columns]"
            ]
          },
          "metadata": {
            "tags": []
          },
          "execution_count": 9
        }
      ]
    },
    {
      "cell_type": "code",
      "metadata": {
        "trusted": true,
        "id": "eQroTJXLa1sr",
        "colab_type": "code",
        "colab": {}
      },
      "source": [
        "answer_ls.append(2)"
      ],
      "execution_count": 0,
      "outputs": []
    },
    {
      "cell_type": "markdown",
      "metadata": {
        "id": "C4hI4KXma1st",
        "colab_type": "text"
      },
      "source": [
        "# 8. Сколько всего фильмов в прибыли?\n",
        "Варианты ответов:\n",
        "1. 1478\n",
        "2. 1520\n",
        "3. 1241\n",
        "4. 1135\n",
        "5. 1398\n"
      ]
    },
    {
      "cell_type": "code",
      "metadata": {
        "id": "pLiCfsJG6Yf_",
        "colab_type": "code",
        "outputId": "59dfaf89-61db-4360-82dc-89a179bb9a95",
        "colab": {
          "base_uri": "https://localhost:8080/",
          "height": 35
        }
      },
      "source": [
        "len(df[df.loss > 0])"
      ],
      "execution_count": 0,
      "outputs": [
        {
          "output_type": "execute_result",
          "data": {
            "text/plain": [
              "1478"
            ]
          },
          "metadata": {
            "tags": []
          },
          "execution_count": 21
        }
      ]
    },
    {
      "cell_type": "code",
      "metadata": {
        "trusted": true,
        "id": "Yi1c1DWBa1su",
        "colab_type": "code",
        "colab": {}
      },
      "source": [
        "answer_ls.append(1)"
      ],
      "execution_count": 0,
      "outputs": []
    },
    {
      "cell_type": "markdown",
      "metadata": {
        "id": "GprJf-Uda1sw",
        "colab_type": "text"
      },
      "source": [
        "# 9. Самый прибыльный фильм в 2008 году?\n",
        "Варианты ответов:\n",
        "1. Madagascar: Escape 2 Africa\ttt0479952\n",
        "2. Iron Man\ttt0371746\n",
        "3. Kung Fu Panda\ttt0441773\n",
        "4. The Dark Knight\ttt0468569\n",
        "5. Mamma Mia!\ttt0795421"
      ]
    },
    {
      "cell_type": "code",
      "metadata": {
        "id": "i_5UeqFi6rbQ",
        "colab_type": "code",
        "outputId": "0620e3fa-7e16-40bf-ed82-d1b3be06bafb",
        "colab": {
          "base_uri": "https://localhost:8080/",
          "height": 203
        }
      },
      "source": [
        "df['year'] = df.release_date.apply(lambda x : int(x[-4:]))\n",
        "df[(df.year == 2008)].sort_values(by = 'revenue', axis = 0, ascending=False).head(1)"
      ],
      "execution_count": 0,
      "outputs": [
        {
          "output_type": "execute_result",
          "data": {
            "text/html": [
              "<div>\n",
              "<style scoped>\n",
              "    .dataframe tbody tr th:only-of-type {\n",
              "        vertical-align: middle;\n",
              "    }\n",
              "\n",
              "    .dataframe tbody tr th {\n",
              "        vertical-align: top;\n",
              "    }\n",
              "\n",
              "    .dataframe thead th {\n",
              "        text-align: right;\n",
              "    }\n",
              "</style>\n",
              "<table border=\"1\" class=\"dataframe\">\n",
              "  <thead>\n",
              "    <tr style=\"text-align: right;\">\n",
              "      <th></th>\n",
              "      <th>imdb_id</th>\n",
              "      <th>popularity</th>\n",
              "      <th>budget</th>\n",
              "      <th>revenue</th>\n",
              "      <th>original_title</th>\n",
              "      <th>cast</th>\n",
              "      <th>director</th>\n",
              "      <th>tagline</th>\n",
              "      <th>overview</th>\n",
              "      <th>runtime</th>\n",
              "      <th>genres</th>\n",
              "      <th>production_companies</th>\n",
              "      <th>release_date</th>\n",
              "      <th>vote_count</th>\n",
              "      <th>vote_average</th>\n",
              "      <th>release_year</th>\n",
              "      <th>loss</th>\n",
              "      <th>year</th>\n",
              "      <th>actor</th>\n",
              "      <th>genre_list</th>\n",
              "    </tr>\n",
              "  </thead>\n",
              "  <tbody>\n",
              "    <tr>\n",
              "      <th>600</th>\n",
              "      <td>tt0468569</td>\n",
              "      <td>8.466668</td>\n",
              "      <td>185000000</td>\n",
              "      <td>1001921825</td>\n",
              "      <td>The Dark Knight</td>\n",
              "      <td>Christian Bale|Michael Caine|Heath Ledger|Aaro...</td>\n",
              "      <td>Christopher Nolan</td>\n",
              "      <td>Why So Serious?</td>\n",
              "      <td>Batman raises the stakes in his war on crime. ...</td>\n",
              "      <td>152</td>\n",
              "      <td>Drama|Action|Crime|Thriller</td>\n",
              "      <td>DC Comics|Legendary Pictures|Warner Bros.|Syncopy</td>\n",
              "      <td>7/16/2008</td>\n",
              "      <td>8432</td>\n",
              "      <td>8.1</td>\n",
              "      <td>2008</td>\n",
              "      <td>816921825</td>\n",
              "      <td>2008</td>\n",
              "      <td>[Christian Bale, Michael Caine, Heath Ledger, ...</td>\n",
              "      <td>{'Drama': 1, 'Action': 1, 'Crime': 1, 'Thrille...</td>\n",
              "    </tr>\n",
              "  </tbody>\n",
              "</table>\n",
              "</div>"
            ],
            "text/plain": [
              "       imdb_id  ...                                         genre_list\n",
              "600  tt0468569  ...  {'Drama': 1, 'Action': 1, 'Crime': 1, 'Thrille...\n",
              "\n",
              "[1 rows x 20 columns]"
            ]
          },
          "metadata": {
            "tags": []
          },
          "execution_count": 23
        }
      ]
    },
    {
      "cell_type": "code",
      "metadata": {
        "trusted": true,
        "id": "2WcGjgHta1sw",
        "colab_type": "code",
        "colab": {}
      },
      "source": [
        "answer_ls.append(4)"
      ],
      "execution_count": 0,
      "outputs": []
    },
    {
      "cell_type": "markdown",
      "metadata": {
        "id": "iguXnvWZa1sy",
        "colab_type": "text"
      },
      "source": [
        "# 10. Самый убыточный фильм за период с 2012 по 2014 (включительно)?\n",
        "Варианты ответов:\n",
        "1. Winter's Tale\ttt1837709\n",
        "2. Stolen\ttt1656186\n",
        "3. Broken City\ttt1235522\n",
        "4. Upside Down\ttt1374992\n",
        "5. The Lone Ranger\ttt1210819\n"
      ]
    },
    {
      "cell_type": "code",
      "metadata": {
        "id": "DwZeHiTg8C9_",
        "colab_type": "code",
        "outputId": "4d0f3082-ebc3-472d-9544-8625d57ea663",
        "colab": {
          "base_uri": "https://localhost:8080/",
          "height": 203
        }
      },
      "source": [
        "df[(df.year >= 2012)&(df.year <= 2014)].sort_values(by = 'loss', axis = 0, ascending=True).head(1)"
      ],
      "execution_count": 0,
      "outputs": [
        {
          "output_type": "execute_result",
          "data": {
            "text/html": [
              "<div>\n",
              "<style scoped>\n",
              "    .dataframe tbody tr th:only-of-type {\n",
              "        vertical-align: middle;\n",
              "    }\n",
              "\n",
              "    .dataframe tbody tr th {\n",
              "        vertical-align: top;\n",
              "    }\n",
              "\n",
              "    .dataframe thead th {\n",
              "        text-align: right;\n",
              "    }\n",
              "</style>\n",
              "<table border=\"1\" class=\"dataframe\">\n",
              "  <thead>\n",
              "    <tr style=\"text-align: right;\">\n",
              "      <th></th>\n",
              "      <th>imdb_id</th>\n",
              "      <th>popularity</th>\n",
              "      <th>budget</th>\n",
              "      <th>revenue</th>\n",
              "      <th>original_title</th>\n",
              "      <th>cast</th>\n",
              "      <th>director</th>\n",
              "      <th>tagline</th>\n",
              "      <th>overview</th>\n",
              "      <th>runtime</th>\n",
              "      <th>genres</th>\n",
              "      <th>production_companies</th>\n",
              "      <th>release_date</th>\n",
              "      <th>vote_count</th>\n",
              "      <th>vote_average</th>\n",
              "      <th>release_year</th>\n",
              "      <th>loss</th>\n",
              "      <th>year</th>\n",
              "      <th>actor</th>\n",
              "      <th>genre_list</th>\n",
              "    </tr>\n",
              "  </thead>\n",
              "  <tbody>\n",
              "    <tr>\n",
              "      <th>1246</th>\n",
              "      <td>tt1210819</td>\n",
              "      <td>1.21451</td>\n",
              "      <td>255000000</td>\n",
              "      <td>89289910</td>\n",
              "      <td>The Lone Ranger</td>\n",
              "      <td>Johnny Depp|Armie Hammer|William Fichtner|Hele...</td>\n",
              "      <td>Gore Verbinski</td>\n",
              "      <td>Never Take Off the Mask</td>\n",
              "      <td>The Texas Rangers chase down a gang of outlaws...</td>\n",
              "      <td>149</td>\n",
              "      <td>Action|Adventure|Western</td>\n",
              "      <td>Walt Disney Pictures|Jerry Bruckheimer Films|I...</td>\n",
              "      <td>7/3/2013</td>\n",
              "      <td>1607</td>\n",
              "      <td>6.0</td>\n",
              "      <td>2013</td>\n",
              "      <td>-165710090</td>\n",
              "      <td>2013</td>\n",
              "      <td>[Johnny Depp, Armie Hammer, William Fichtner, ...</td>\n",
              "      <td>{'Action': 1, 'Adventure': 1, 'Western': 1}</td>\n",
              "    </tr>\n",
              "  </tbody>\n",
              "</table>\n",
              "</div>"
            ],
            "text/plain": [
              "        imdb_id  ...                                   genre_list\n",
              "1246  tt1210819  ...  {'Action': 1, 'Adventure': 1, 'Western': 1}\n",
              "\n",
              "[1 rows x 20 columns]"
            ]
          },
          "metadata": {
            "tags": []
          },
          "execution_count": 24
        }
      ]
    },
    {
      "cell_type": "code",
      "metadata": {
        "trusted": true,
        "id": "jykSsQFda1sz",
        "colab_type": "code",
        "colab": {}
      },
      "source": [
        "answer_ls.append(5)"
      ],
      "execution_count": 0,
      "outputs": []
    },
    {
      "cell_type": "markdown",
      "metadata": {
        "id": "anv04KBOa1s1",
        "colab_type": "text"
      },
      "source": [
        "# 11. Какого жанра фильмов больше всего?\n",
        "Варианты ответов:\n",
        "1. Action\n",
        "2. Adventure\n",
        "3. Drama\n",
        "4. Comedy\n",
        "5. Thriller"
      ]
    },
    {
      "cell_type": "code",
      "metadata": {
        "id": "4Z7gRXRPX9f-",
        "colab_type": "code",
        "outputId": "617fd44b-ab99-4ab7-89cd-d8914357b927",
        "colab": {
          "base_uri": "https://localhost:8080/",
          "height": 35
        }
      },
      "source": [
        "import collections\n",
        "df['genre_list'] = df.genres.apply(lambda x : Counter(x.split('|')))\n",
        "df['genre_list'].sum().most_common(1)"
      ],
      "execution_count": 0,
      "outputs": [
        {
          "output_type": "execute_result",
          "data": {
            "text/plain": [
              "[('Drama', 782)]"
            ]
          },
          "metadata": {
            "tags": []
          },
          "execution_count": 20
        }
      ]
    },
    {
      "cell_type": "code",
      "metadata": {
        "trusted": true,
        "id": "WkIG-TY9a1s1",
        "colab_type": "code",
        "colab": {}
      },
      "source": [
        "answer_ls.append(3)"
      ],
      "execution_count": 0,
      "outputs": []
    },
    {
      "cell_type": "markdown",
      "metadata": {
        "id": "r4OIyY0oa1s4",
        "colab_type": "text"
      },
      "source": [
        "# 12. Какого жанра среди прибыльных фильмов больше всего?\n",
        "Варианты ответов:\n",
        "1. Drama\n",
        "2. Comedy\n",
        "3. Action\n",
        "4. Thriller\n",
        "5. Adventure"
      ]
    },
    {
      "cell_type": "code",
      "metadata": {
        "id": "lfhw_DWS-xto",
        "colab_type": "code",
        "outputId": "17bb75e8-617a-4c84-c81d-eaf0a870a1a0",
        "colab": {
          "base_uri": "https://localhost:8080/",
          "height": 35
        }
      },
      "source": [
        "df3[df3.loss > 0]['genre_list'].sum().most_common(1)"
      ],
      "execution_count": 0,
      "outputs": [
        {
          "output_type": "execute_result",
          "data": {
            "text/plain": [
              "[('Drama', 560)]"
            ]
          },
          "metadata": {
            "tags": []
          },
          "execution_count": 25
        }
      ]
    },
    {
      "cell_type": "code",
      "metadata": {
        "trusted": true,
        "id": "aNJf_qApa1s4",
        "colab_type": "code",
        "colab": {}
      },
      "source": [
        "answer_ls.append(1)"
      ],
      "execution_count": 0,
      "outputs": []
    },
    {
      "cell_type": "markdown",
      "metadata": {
        "id": "CokU4z6la1s8",
        "colab_type": "text"
      },
      "source": [
        "# 13. Кто из режиссеров снял больше всего фильмов?\n",
        "Варианты ответов:\n",
        "1. Steven Spielberg\n",
        "2. Ridley Scott \n",
        "3. Steven Soderbergh\n",
        "4. Christopher Nolan\n",
        "5. Clint Eastwood"
      ]
    },
    {
      "cell_type": "code",
      "metadata": {
        "id": "asNv9_nWv6oM",
        "colab_type": "code",
        "outputId": "126d5ed4-125f-4bba-f0b2-48219cab682c",
        "colab": {
          "base_uri": "https://localhost:8080/",
          "height": 35
        }
      },
      "source": [
        "df['director_list'] = df.director.apply(lambda x : Counter(x.split('|')))\n",
        "df['director_list'].sum().most_common(1)"
      ],
      "execution_count": 0,
      "outputs": [
        {
          "output_type": "execute_result",
          "data": {
            "text/plain": [
              "[('Steven Soderbergh', 13)]"
            ]
          },
          "metadata": {
            "tags": []
          },
          "execution_count": 26
        }
      ]
    },
    {
      "cell_type": "code",
      "metadata": {
        "trusted": true,
        "id": "6_S6E_Bja1s9",
        "colab_type": "code",
        "colab": {}
      },
      "source": [
        "answer_ls.append(3)"
      ],
      "execution_count": 0,
      "outputs": []
    },
    {
      "cell_type": "markdown",
      "metadata": {
        "id": "8vXjlMnDa1s_",
        "colab_type": "text"
      },
      "source": [
        "# 14. Кто из режиссеров снял больше всего Прибыльных фильмов?\n",
        "Варианты ответов:\n",
        "1. Steven Soderbergh\n",
        "2. Clint Eastwood\n",
        "3. Steven Spielberg\n",
        "4. Ridley Scott\n",
        "5. Christopher Nolan"
      ]
    },
    {
      "cell_type": "code",
      "metadata": {
        "id": "XyF880HWwFT_",
        "colab_type": "code",
        "outputId": "0dc340a1-f41b-4d4e-86c0-add46433d672",
        "colab": {
          "base_uri": "https://localhost:8080/",
          "height": 35
        }
      },
      "source": [
        "df[df.loss > 0]['director_list'].sum().most_common(1)"
      ],
      "execution_count": 0,
      "outputs": [
        {
          "output_type": "execute_result",
          "data": {
            "text/plain": [
              "[('Ridley Scott', 12)]"
            ]
          },
          "metadata": {
            "tags": []
          },
          "execution_count": 20
        }
      ]
    },
    {
      "cell_type": "code",
      "metadata": {
        "trusted": true,
        "id": "Asd9T6vZa1s_",
        "colab_type": "code",
        "colab": {}
      },
      "source": [
        "answer_ls.append(4)"
      ],
      "execution_count": 0,
      "outputs": []
    },
    {
      "cell_type": "markdown",
      "metadata": {
        "id": "1rzBIquWa1tB",
        "colab_type": "text"
      },
      "source": [
        "# 15. Кто из режиссеров принес больше всего прибыли?\n",
        "Варианты ответов:\n",
        "1. Steven Spielberg\n",
        "2. Christopher Nolan\n",
        "3. David Yates\n",
        "4. James Cameron\n",
        "5. Peter Jackson\n"
      ]
    },
    {
      "cell_type": "code",
      "metadata": {
        "id": "RIroFOx-wk1A",
        "colab_type": "code",
        "outputId": "f75418d7-955b-4c19-a545-c28aa5ac23d4",
        "colab": {
          "base_uri": "https://localhost:8080/",
          "height": 243
        }
      },
      "source": [
        "df.groupby(['director']).loss.sum().sort_values(ascending = False)"
      ],
      "execution_count": 0,
      "outputs": [
        {
          "output_type": "execute_result",
          "data": {
            "text/plain": [
              "director\n",
              "Peter Jackson            5202593685\n",
              "David Yates              3379295625\n",
              "Christopher Nolan        3162548502\n",
              "J.J. Abrams              2839169916\n",
              "Michael Bay              2760938960\n",
              "                            ...    \n",
              "David Bowers|Sam Fell     -84540684\n",
              "Peter Hyams               -86956545\n",
              "Ron Underwood             -92896027\n",
              "James L. Brooks           -96289726\n",
              "Sngmoo Lee               -413912431\n",
              "Name: loss, Length: 958, dtype: int64"
            ]
          },
          "metadata": {
            "tags": []
          },
          "execution_count": 62
        }
      ]
    },
    {
      "cell_type": "code",
      "metadata": {
        "trusted": true,
        "id": "s5V2gTSEa1tB",
        "colab_type": "code",
        "colab": {}
      },
      "source": [
        "answer_ls.append(5)"
      ],
      "execution_count": 0,
      "outputs": []
    },
    {
      "cell_type": "markdown",
      "metadata": {
        "id": "ltnAGGmXa1tD",
        "colab_type": "text"
      },
      "source": [
        "# 16. Какой актер принес больше всего прибыли?\n",
        "Варианты ответов:\n",
        "1. Emma Watson\n",
        "2. Johnny Depp\n",
        "3. Michelle Rodriguez\n",
        "4. Orlando Bloom\n",
        "5. Rupert Grint"
      ]
    },
    {
      "cell_type": "code",
      "metadata": {
        "id": "SVN1jj_bgR5V",
        "colab_type": "code",
        "outputId": "acced44c-5241-4e77-9bdd-1b284d67268e",
        "colab": {
          "base_uri": "https://localhost:8080/",
          "height": 121
        }
      },
      "source": [
        "df['income_pre_actor'] = df['loss']/len(df['actor_list'])\n",
        "df['income_pre_actor'].head()"
      ],
      "execution_count": 0,
      "outputs": [
        {
          "output_type": "execute_result",
          "data": {
            "text/plain": [
              "0    721443.814815\n",
              "1    120865.795767\n",
              "2     98009.630159\n",
              "3    988454.087302\n",
              "4    696428.232804\n",
              "Name: income_pre_actor, dtype: float64"
            ]
          },
          "metadata": {
            "tags": []
          },
          "execution_count": 13
        }
      ]
    },
    {
      "cell_type": "code",
      "metadata": {
        "id": "-0GPLCguzrkD",
        "colab_type": "code",
        "outputId": "a37c2f2c-23ba-4a6a-893b-6896f94320ee",
        "colab": {
          "base_uri": "https://localhost:8080/",
          "height": 35
        }
      },
      "source": [
        "emma = df[df.cast.apply(lambda x: 'Emma Watson' in x)]['income_pre_actor'].sum()\n",
        "jonny = df[df.cast.apply(lambda x: 'Johnny Depp' in x)]['income_pre_actor'].sum()\n",
        "mike = df[df.cast.apply(lambda x: 'Michelle Rodriguez' in x)]['income_pre_actor'].sum()\n",
        "orlando = df[df.cast.apply(lambda x: 'Orlando Bloom' in x)]['income_pre_actor'].sum()\n",
        "rup = df[df.cast.apply(lambda x: 'Rupert Grint' in x)]['income_pre_actor'].sum()\n",
        "\n",
        "if emma == max(emma, jonny,mike,orlando,rup):\n",
        "  print('Emma Watson')\n",
        "elif jonny == max(emma, jonny,mike,orlando,rup):\n",
        "  print('Johnny Depp')\n",
        "elif mike == max(emma, jonny,mike,orlando,rup):\n",
        "  print('Michelle Rodriguez')  \n",
        "elif orlando == max(emma, jonny,mike,orlando,rup):\n",
        "  print('Orlando Bloom')  \n",
        "elif rup == max(emma, jonny,mike,orlando,rup):\n",
        "  print('Rupert Grint')\n",
        "else: \n",
        "  print('Check me baby one more time')"
      ],
      "execution_count": 0,
      "outputs": [
        {
          "output_type": "stream",
          "text": [
            "Emma Watson\n"
          ],
          "name": "stdout"
        }
      ]
    },
    {
      "cell_type": "code",
      "metadata": {
        "trusted": true,
        "id": "5ixihYyha1tE",
        "colab_type": "code",
        "colab": {}
      },
      "source": [
        "answer_ls.append(1)"
      ],
      "execution_count": 0,
      "outputs": []
    },
    {
      "cell_type": "markdown",
      "metadata": {
        "id": "mnFlM__Xa1tF",
        "colab_type": "text"
      },
      "source": [
        "# 17. Какой актер принес меньше всего прибыли в 2012 году?\n",
        "Варианты ответов:\n",
        "1. Nicolas Cage\n",
        "2. Danny Huston\n",
        "3. Kirsten Dunst\n",
        "4. Jim Sturgess\n",
        "5. Sami Gayle"
      ]
    },
    {
      "cell_type": "code",
      "metadata": {
        "id": "LFLh_-k_fxDb",
        "colab_type": "code",
        "outputId": "9c084d38-e7a2-4829-883b-c53813fbec04",
        "colab": {
          "base_uri": "https://localhost:8080/",
          "height": 35
        }
      },
      "source": [
        "cage = df[(df.cast.apply(lambda x: 'Nicolas Cage' in x))&(df.year == 2012)]['income_pre_actor'].sum()\n",
        "huston = df[(df.cast.apply(lambda x: 'Danny Huston' in x))&(df.year == 2012)]['income_pre_actor'].sum()\n",
        "dunst = df[(df.cast.apply(lambda x: 'Kirsten Dunst' in x))&(df.year == 2012)]['income_pre_actor'].sum()\n",
        "sturgess = df[(df.cast.apply(lambda x: 'Jim Sturgess' in x))&(df.year == 2012)]['income_pre_actor'].sum()\n",
        "gayle = df[(df.cast.apply(lambda x: 'Sami Gayle' in x))&(df.year == 2012)]['income_pre_actor'].sum()\n",
        "\n",
        "if cage == min(cage,huston,dunst,sturgess,gayle):\n",
        "  print('Nicolas Cage')\n",
        "elif huston == min(cage,huston,dunst,sturgess,gayle):\n",
        "  print('Danny Huston')\n",
        "elif dunst == min(cage,huston,dunst,sturgess,gayle):\n",
        "  print('Kirsten Dunst')  \n",
        "elif sturgess == min(cage,huston,dunst,sturgess,gayle):\n",
        "  print('Jim Sturgess')  \n",
        "elif gayle == min(cage,huston,dunst,sturgess,gayle):\n",
        "  print('Sami Gayle')\n",
        "else: \n",
        "  print('Check me baby one more time')"
      ],
      "execution_count": 0,
      "outputs": [
        {
          "output_type": "stream",
          "text": [
            "Kirsten Dunst\n"
          ],
          "name": "stdout"
        }
      ]
    },
    {
      "cell_type": "code",
      "metadata": {
        "trusted": true,
        "id": "Hu-lxFuGa1tG",
        "colab_type": "code",
        "colab": {}
      },
      "source": [
        "answer_ls.append(2)"
      ],
      "execution_count": 0,
      "outputs": []
    },
    {
      "cell_type": "markdown",
      "metadata": {
        "id": "dEUnJZcfa1tI",
        "colab_type": "text"
      },
      "source": [
        "# 18. Какой актер снялся в большем количестве высокобюджетных фильмов? (в фильмах где бюджет выше среднего по данной выборке)\n",
        "Варианты ответов:\n",
        "1. Tom Cruise\n",
        "2. Mark Wahlberg \n",
        "3. Matt Damon\n",
        "4. Angelina Jolie\n",
        "5. Adam Sandler"
      ]
    },
    {
      "cell_type": "code",
      "metadata": {
        "id": "2xJn-XW8oPGO",
        "colab_type": "code",
        "outputId": "aa9bb486-684a-4cb8-b23e-066df2e53002",
        "colab": {
          "base_uri": "https://localhost:8080/",
          "height": 35
        }
      },
      "source": [
        "Counter(df[df.budget > df.budget.mean()]['actor_list'].sum()).most_common(1)"
      ],
      "execution_count": 0,
      "outputs": [
        {
          "output_type": "execute_result",
          "data": {
            "text/plain": [
              "[('Matt Damon', 18)]"
            ]
          },
          "metadata": {
            "tags": []
          },
          "execution_count": 24
        }
      ]
    },
    {
      "cell_type": "code",
      "metadata": {
        "trusted": true,
        "id": "BVeCANWKa1tI",
        "colab_type": "code",
        "colab": {}
      },
      "source": [
        "answer_ls.append(3)"
      ],
      "execution_count": 0,
      "outputs": []
    },
    {
      "cell_type": "markdown",
      "metadata": {
        "id": "-7DA_ycRa1tK",
        "colab_type": "text"
      },
      "source": [
        "# 19. В фильмах какого жанра больше всего снимался Nicolas Cage?  \n",
        "Варианты ответа:\n",
        "1. Drama\n",
        "2. Action\n",
        "3. Thriller\n",
        "4. Adventure\n",
        "5. Crime"
      ]
    },
    {
      "cell_type": "code",
      "metadata": {
        "id": "42t7lM2UqN5F",
        "colab_type": "code",
        "outputId": "5682cf51-346d-4fba-f8ea-50a6d3aa35ed",
        "colab": {
          "base_uri": "https://localhost:8080/",
          "height": 35
        }
      },
      "source": [
        "df[df.cast.apply(lambda x: 'Nicolas Cage' in x)]['genre_list'].sum().most_common(1)"
      ],
      "execution_count": 0,
      "outputs": [
        {
          "output_type": "execute_result",
          "data": {
            "text/plain": [
              "[('Action', 17)]"
            ]
          },
          "metadata": {
            "tags": []
          },
          "execution_count": 28
        }
      ]
    },
    {
      "cell_type": "code",
      "metadata": {
        "trusted": true,
        "id": "DXddWRQla1tL",
        "colab_type": "code",
        "colab": {}
      },
      "source": [
        "answer_ls.append(2)"
      ],
      "execution_count": 0,
      "outputs": []
    },
    {
      "cell_type": "markdown",
      "metadata": {
        "id": "vyCK-tU5a1tN",
        "colab_type": "text"
      },
      "source": [
        "# 20. Какая студия сняла больше всего фильмов?\n",
        "Варианты ответа:\n",
        "1. Universal Pictures (Universal)\n",
        "2. Paramount Pictures\n",
        "3. Columbia Pictures\n",
        "4. Warner Bros\n",
        "5. Twentieth Century Fox Film Corporation"
      ]
    },
    {
      "cell_type": "code",
      "metadata": {
        "id": "r9DVwb5nlSBh",
        "colab_type": "code",
        "outputId": "b976d2b4-043d-4fd3-8940-c435ec7af76d",
        "colab": {
          "base_uri": "https://localhost:8080/",
          "height": 35
        }
      },
      "source": [
        "df['studio_list'] = df.production_companies.apply(lambda x : x.split('|'))\n",
        "Counter(df['studio_list'].sum()).most_common(1)"
      ],
      "execution_count": 0,
      "outputs": [
        {
          "output_type": "execute_result",
          "data": {
            "text/plain": [
              "[('Universal Pictures', 173)]"
            ]
          },
          "metadata": {
            "tags": []
          },
          "execution_count": 35
        }
      ]
    },
    {
      "cell_type": "code",
      "metadata": {
        "trusted": true,
        "id": "IHjK757ga1tO",
        "colab_type": "code",
        "colab": {}
      },
      "source": [
        "answer_ls.append(1)"
      ],
      "execution_count": 0,
      "outputs": []
    },
    {
      "cell_type": "markdown",
      "metadata": {
        "id": "JiuyYiuMa1tQ",
        "colab_type": "text"
      },
      "source": [
        "# 21. Какая студия сняла больше всего фильмов в 2015 году?\n",
        "Варианты ответа:\n",
        "1. Universal Pictures\n",
        "2. Paramount Pictures\n",
        "3. Columbia Pictures\n",
        "4. Warner Bros\n",
        "5. Twentieth Century Fox Film Corporation"
      ]
    },
    {
      "cell_type": "code",
      "metadata": {
        "id": "8Jr4rb_Atb-L",
        "colab_type": "code",
        "outputId": "d9efefd1-8013-472b-a217-7044c6f4f78b",
        "colab": {
          "base_uri": "https://localhost:8080/",
          "height": 35
        }
      },
      "source": [
        "Counter(df[df.year == 2015]['studio_list'].sum()).most_common(1)"
      ],
      "execution_count": 0,
      "outputs": [
        {
          "output_type": "execute_result",
          "data": {
            "text/plain": [
              "[('Warner Bros.', 12)]"
            ]
          },
          "metadata": {
            "tags": []
          },
          "execution_count": 36
        }
      ]
    },
    {
      "cell_type": "code",
      "metadata": {
        "trusted": true,
        "id": "16dSlS1Sa1tQ",
        "colab_type": "code",
        "colab": {}
      },
      "source": [
        "answer_ls.append(4)"
      ],
      "execution_count": 0,
      "outputs": []
    },
    {
      "cell_type": "markdown",
      "metadata": {
        "id": "bI7vkUH0a1tS",
        "colab_type": "text"
      },
      "source": [
        "# 22. Какая студия заработала больше всего денег в жанре комедий за все время?\n",
        "Варианты ответа:\n",
        "1. Warner Bros\n",
        "2. Universal Pictures (Universal)\n",
        "3. Columbia Pictures\n",
        "4. Paramount Pictures\n",
        "5. Walt Disney"
      ]
    },
    {
      "cell_type": "code",
      "metadata": {
        "id": "LrDTgKbgvMRB",
        "colab_type": "code",
        "outputId": "ffa4322c-af5f-4295-d7ae-073208840816",
        "colab": {
          "base_uri": "https://localhost:8080/",
          "height": 35
        }
      },
      "source": [
        "wb = df[(df.production_companies.apply(lambda x: 'Warner Bros' in x)) & \n",
        "   (df.genres.apply(lambda x: 'Comedy' in x))]['loss'].sum()\n",
        "uni = df[(df.production_companies.apply(lambda x: 'Universal' in x)) & \n",
        "   (df.genres.apply(lambda x: 'Comedy' in x))]['loss'].sum()\n",
        "cp = df[(df.production_companies.apply(lambda x: 'Columbia Pictures' in x)) & \n",
        "   (df.genres.apply(lambda x: 'Comedy' in x))]['loss'].sum()\n",
        "pp = df[(df.production_companies.apply(lambda x: 'Paramount Pictures' in x)) & \n",
        "   (df.genres.apply(lambda x: 'Comedy' in x))]['loss'].sum()\n",
        "wd = df[(df.production_companies.apply(lambda x: 'Walt Disney' in x)) & \n",
        "   (df.genres.apply(lambda x: 'Comedy' in x))]['loss'].sum()\n",
        "\n",
        "if wb == max(wb, uni, cp, pp, wd):\n",
        "  print('Warner Bros')\n",
        "elif uni == max(wb, uni, cp, pp, wd):\n",
        "  print('Universal')\n",
        "elif cp == max(wb, uni, cp, pp, wd):\n",
        "  print('Columbia Pictures')  \n",
        "elif pp == max(wb, uni, cp, pp, wd):\n",
        "  print('Paramount Pictures')  \n",
        "elif wd == max(wb, uni, cp, pp, wd):\n",
        "  print('Walt Disney')\n",
        "else: \n",
        "  print('Check me baby one more time')\n"
      ],
      "execution_count": 0,
      "outputs": [
        {
          "output_type": "stream",
          "text": [
            "Universal\n"
          ],
          "name": "stdout"
        }
      ]
    },
    {
      "cell_type": "code",
      "metadata": {
        "trusted": true,
        "id": "2_6I7nHda1tS",
        "colab_type": "code",
        "colab": {}
      },
      "source": [
        "answer_ls.append(2)"
      ],
      "execution_count": 0,
      "outputs": []
    },
    {
      "cell_type": "markdown",
      "metadata": {
        "id": "mYjzxsq3a1tU",
        "colab_type": "text"
      },
      "source": [
        "# 23. Какая студия заработала больше всего денег в 2012 году?\n",
        "Варианты ответа:\n",
        "1. Universal Pictures (Universal)\n",
        "2. Warner Bros\n",
        "3. Columbia Pictures\n",
        "4. Paramount Pictures\n",
        "5. Lucasfilm"
      ]
    },
    {
      "cell_type": "code",
      "metadata": {
        "id": "15dIaAeHyJIT",
        "colab_type": "code",
        "outputId": "a651c734-0062-4204-fbfd-994c7d58a763",
        "colab": {
          "base_uri": "https://localhost:8080/",
          "height": 35
        }
      },
      "source": [
        "wb = df[(df.production_companies.apply(lambda x: 'Warner Bros' in x)) & \n",
        "   (df.year == 2012) ]['loss'].sum()\n",
        "uni = df[(df.production_companies.apply(lambda x: 'Universal' in x)) & \n",
        "   (df.year == 2012)]['loss'].sum()\n",
        "cp = df[(df.production_companies.apply(lambda x: 'Columbia Pictures' in x)) & \n",
        "   (df.year == 2012)]['loss'].sum()\n",
        "pp = df[(df.production_companies.apply(lambda x: 'Paramount Pictures' in x)) & \n",
        "   (df.year == 2012)]['loss'].sum()\n",
        "luc = df[(df.production_companies.apply(lambda x: 'Lucasfilm' in x)) & \n",
        "   (df.year == 2012)]['loss'].sum()\n",
        "\n",
        "if wb == max(wb, uni, cp, pp, luc):\n",
        "  print('Warner Bros')\n",
        "elif uni == max(wb, uni, cp, pp, luc):\n",
        "  print('Universal')\n",
        "elif cp == max(wb, uni, cp, pp, luc):\n",
        "  print('Columbia Pictures')  \n",
        "elif pp == max(wb, uni, cp, pp, luc):\n",
        "  print('Paramount Pictures')  \n",
        "elif luc == max(wb, uni, cp, pp, luc):\n",
        "  print('Lucasfilm')\n",
        "else: \n",
        "  print('Check me baby one more time')"
      ],
      "execution_count": 0,
      "outputs": [
        {
          "output_type": "stream",
          "text": [
            "Columbia Pictures\n"
          ],
          "name": "stdout"
        }
      ]
    },
    {
      "cell_type": "code",
      "metadata": {
        "trusted": true,
        "id": "UksLu5DZa1tV",
        "colab_type": "code",
        "colab": {}
      },
      "source": [
        "answer_ls.append(3)"
      ],
      "execution_count": 0,
      "outputs": []
    },
    {
      "cell_type": "markdown",
      "metadata": {
        "id": "rQbOOyYsa1tW",
        "colab_type": "text"
      },
      "source": [
        "# 24. Самый убыточный фильм от Paramount Pictures\n",
        "Варианты ответа:\n",
        "\n",
        "1. K-19: The Widowmaker tt0267626\n",
        "2. Next tt0435705\n",
        "3. Twisted tt0315297\n",
        "4. The Love Guru tt0811138\n",
        "5. The Fighter tt0964517"
      ]
    },
    {
      "cell_type": "code",
      "metadata": {
        "id": "XO8Nu-Aj0ufb",
        "colab_type": "code",
        "outputId": "19bc09bf-6747-4aa5-c9f1-a9f762263896",
        "colab": {
          "base_uri": "https://localhost:8080/",
          "height": 186
        }
      },
      "source": [
        "a = df[(df.production_companies.apply(lambda x: 'Paramount Pictures' in x))]\n",
        "a[a.loss == a.loss.min()]"
      ],
      "execution_count": 0,
      "outputs": [
        {
          "output_type": "execute_result",
          "data": {
            "text/html": [
              "<div>\n",
              "<style scoped>\n",
              "    .dataframe tbody tr th:only-of-type {\n",
              "        vertical-align: middle;\n",
              "    }\n",
              "\n",
              "    .dataframe tbody tr th {\n",
              "        vertical-align: top;\n",
              "    }\n",
              "\n",
              "    .dataframe thead th {\n",
              "        text-align: right;\n",
              "    }\n",
              "</style>\n",
              "<table border=\"1\" class=\"dataframe\">\n",
              "  <thead>\n",
              "    <tr style=\"text-align: right;\">\n",
              "      <th></th>\n",
              "      <th>imdb_id</th>\n",
              "      <th>popularity</th>\n",
              "      <th>budget</th>\n",
              "      <th>revenue</th>\n",
              "      <th>original_title</th>\n",
              "      <th>cast</th>\n",
              "      <th>director</th>\n",
              "      <th>tagline</th>\n",
              "      <th>overview</th>\n",
              "      <th>runtime</th>\n",
              "      <th>genres</th>\n",
              "      <th>production_companies</th>\n",
              "      <th>release_date</th>\n",
              "      <th>vote_count</th>\n",
              "      <th>vote_average</th>\n",
              "      <th>release_year</th>\n",
              "      <th>loss</th>\n",
              "      <th>year</th>\n",
              "      <th>genre_list</th>\n",
              "      <th>director_list</th>\n",
              "      <th>actor_list</th>\n",
              "      <th>income_pre_actor</th>\n",
              "      <th>studio_list</th>\n",
              "    </tr>\n",
              "  </thead>\n",
              "  <tbody>\n",
              "    <tr>\n",
              "      <th>926</th>\n",
              "      <td>tt0267626</td>\n",
              "      <td>0.72233</td>\n",
              "      <td>100000000</td>\n",
              "      <td>35168966</td>\n",
              "      <td>K-19: The Widowmaker</td>\n",
              "      <td>Harrison Ford|Liam Neeson|Peter Sarsgaard|Joss...</td>\n",
              "      <td>Kathryn Bigelow</td>\n",
              "      <td>Fate has found its hero.</td>\n",
              "      <td>When Russia's first nuclear submarine malfunct...</td>\n",
              "      <td>138</td>\n",
              "      <td>Thriller|Drama|History</td>\n",
              "      <td>Paramount Pictures|Intermedia Films|National G...</td>\n",
              "      <td>7/19/2002</td>\n",
              "      <td>146</td>\n",
              "      <td>6.0</td>\n",
              "      <td>2002</td>\n",
              "      <td>-64831034</td>\n",
              "      <td>2002</td>\n",
              "      <td>{'Thriller': 1, 'Drama': 1, 'History': 1}</td>\n",
              "      <td>{'Kathryn Bigelow': 1}</td>\n",
              "      <td>[Harrison Ford, Liam Neeson, Peter Sarsgaard, ...</td>\n",
              "      <td>-34302.134392</td>\n",
              "      <td>[Paramount Pictures, Intermedia Films, Nationa...</td>\n",
              "    </tr>\n",
              "  </tbody>\n",
              "</table>\n",
              "</div>"
            ],
            "text/plain": [
              "       imdb_id  ...                                        studio_list\n",
              "926  tt0267626  ...  [Paramount Pictures, Intermedia Films, Nationa...\n",
              "\n",
              "[1 rows x 23 columns]"
            ]
          },
          "metadata": {
            "tags": []
          },
          "execution_count": 9
        }
      ]
    },
    {
      "cell_type": "code",
      "metadata": {
        "trusted": true,
        "id": "Nqp_I_Aja1tX",
        "colab_type": "code",
        "colab": {}
      },
      "source": [
        "answer_ls.append(1)"
      ],
      "execution_count": 0,
      "outputs": []
    },
    {
      "cell_type": "markdown",
      "metadata": {
        "id": "nlHJUVRra1tZ",
        "colab_type": "text"
      },
      "source": [
        "# 25. Какой Самый прибыльный год (заработали больше всего)?\n",
        "Варианты ответа:\n",
        "1. 2014\n",
        "2. 2008\n",
        "3. 2012\n",
        "4. 2002\n",
        "5. 2015"
      ]
    },
    {
      "cell_type": "code",
      "metadata": {
        "id": "g8b5HDMipHzn",
        "colab_type": "code",
        "outputId": "f8bed2fd-4356-4827-cf8c-9a1f57cda53f",
        "colab": {
          "base_uri": "https://localhost:8080/",
          "height": 35
        }
      },
      "source": [
        "y14 = df[df.year == 2014]['loss'].sum()\n",
        "y08 = df[df.year == 2008]['loss'].sum()\n",
        "y12 = df[df.year == 2012]['loss'].sum()\n",
        "y02 = df[df.year == 2002]['loss'].sum()\n",
        "y15 = df[df.year == 2015]['loss'].sum()\n",
        "\n",
        "a = [y14,y08,y12,y02,y15]\n",
        "max(a) == a\n"
      ],
      "execution_count": 0,
      "outputs": [
        {
          "output_type": "execute_result",
          "data": {
            "text/plain": [
              "array([False, False, False, False,  True])"
            ]
          },
          "metadata": {
            "tags": []
          },
          "execution_count": 13
        }
      ]
    },
    {
      "cell_type": "code",
      "metadata": {
        "trusted": true,
        "id": "dKQcmuaja1tZ",
        "colab_type": "code",
        "colab": {}
      },
      "source": [
        "answer_ls.append(5)"
      ],
      "execution_count": 0,
      "outputs": []
    },
    {
      "cell_type": "markdown",
      "metadata": {
        "id": "A2EEj_4da1tb",
        "colab_type": "text"
      },
      "source": [
        "# 26. Какой Самый прибыльный год для студии Warner Bros?\n",
        "Варианты ответа:\n",
        "1. 2014\n",
        "2. 2008\n",
        "3. 2012\n",
        "4. 2010\n",
        "5. 2015"
      ]
    },
    {
      "cell_type": "code",
      "metadata": {
        "id": "gEVLWcOQ9uuK",
        "colab_type": "code",
        "outputId": "8920d51d-ed35-4f42-8673-44bd931a7edb",
        "colab": {
          "base_uri": "https://localhost:8080/",
          "height": 233
        }
      },
      "source": [
        "df[['production_companies', 'release_year', 'loss']].loc[df['production_companies'].apply(lambda x: 'Warner Bros' in x)].groupby(['release_year']).sum().sort_values('loss', ascending =False).head(5)"
      ],
      "execution_count": 0,
      "outputs": [
        {
          "output_type": "execute_result",
          "data": {
            "text/html": [
              "<div>\n",
              "<style scoped>\n",
              "    .dataframe tbody tr th:only-of-type {\n",
              "        vertical-align: middle;\n",
              "    }\n",
              "\n",
              "    .dataframe tbody tr th {\n",
              "        vertical-align: top;\n",
              "    }\n",
              "\n",
              "    .dataframe thead th {\n",
              "        text-align: right;\n",
              "    }\n",
              "</style>\n",
              "<table border=\"1\" class=\"dataframe\">\n",
              "  <thead>\n",
              "    <tr style=\"text-align: right;\">\n",
              "      <th></th>\n",
              "      <th>loss</th>\n",
              "    </tr>\n",
              "    <tr>\n",
              "      <th>release_year</th>\n",
              "      <th></th>\n",
              "    </tr>\n",
              "  </thead>\n",
              "  <tbody>\n",
              "    <tr>\n",
              "      <th>2014</th>\n",
              "      <td>2295464519</td>\n",
              "    </tr>\n",
              "    <tr>\n",
              "      <th>2007</th>\n",
              "      <td>2201675217</td>\n",
              "    </tr>\n",
              "    <tr>\n",
              "      <th>2008</th>\n",
              "      <td>2134595031</td>\n",
              "    </tr>\n",
              "    <tr>\n",
              "      <th>2010</th>\n",
              "      <td>1974712985</td>\n",
              "    </tr>\n",
              "    <tr>\n",
              "      <th>2011</th>\n",
              "      <td>1871393682</td>\n",
              "    </tr>\n",
              "  </tbody>\n",
              "</table>\n",
              "</div>"
            ],
            "text/plain": [
              "                    loss\n",
              "release_year            \n",
              "2014          2295464519\n",
              "2007          2201675217\n",
              "2008          2134595031\n",
              "2010          1974712985\n",
              "2011          1871393682"
            ]
          },
          "metadata": {
            "tags": []
          },
          "execution_count": 143
        }
      ]
    },
    {
      "cell_type": "code",
      "metadata": {
        "trusted": true,
        "id": "oozk-g--a1tb",
        "colab_type": "code",
        "colab": {}
      },
      "source": [
        "answer_ls.append(1)"
      ],
      "execution_count": 0,
      "outputs": []
    },
    {
      "cell_type": "markdown",
      "metadata": {
        "id": "kUP6Ggkja1te",
        "colab_type": "text"
      },
      "source": [
        "# 27. В каком месяце за все годы суммарно вышло больше всего фильмов?\n",
        "Варианты ответа:\n",
        "1. Январь\n",
        "2. Июнь\n",
        "3. Декабрь\n",
        "4. Сентябрь\n",
        "5. Май"
      ]
    },
    {
      "cell_type": "code",
      "metadata": {
        "id": "xgIqGsiSE6Zb",
        "colab_type": "code",
        "outputId": "5a93e2b2-c5c1-4364-b740-1fffce8ecc0e",
        "colab": {
          "base_uri": "https://localhost:8080/",
          "height": 225
        }
      },
      "source": [
        "df['month'] = df.release_date.apply(lambda x : int(x[:x.find('/')]))\n",
        "Counter(df.month).most_common()"
      ],
      "execution_count": 0,
      "outputs": [
        {
          "output_type": "execute_result",
          "data": {
            "text/plain": [
              "[(9, 227),\n",
              " (12, 191),\n",
              " (10, 186),\n",
              " (8, 161),\n",
              " (3, 156),\n",
              " (4, 149),\n",
              " (6, 147),\n",
              " (11, 146),\n",
              " (7, 142),\n",
              " (5, 140),\n",
              " (2, 135),\n",
              " (1, 110)]"
            ]
          },
          "metadata": {
            "tags": []
          },
          "execution_count": 23
        }
      ]
    },
    {
      "cell_type": "code",
      "metadata": {
        "trusted": true,
        "id": "HrusP-p5a1te",
        "colab_type": "code",
        "colab": {}
      },
      "source": [
        "answer_ls.append(4)"
      ],
      "execution_count": 0,
      "outputs": []
    },
    {
      "cell_type": "markdown",
      "metadata": {
        "id": "lp3KjI1Pa1th",
        "colab_type": "text"
      },
      "source": [
        "# 28. Сколько суммарно вышло фильмов летом? (за июнь, июль, август)\n",
        "Варианты ответа:\n",
        "1. 345\n",
        "2. 450\n",
        "3. 478\n",
        "4. 523\n",
        "5. 381"
      ]
    },
    {
      "cell_type": "code",
      "metadata": {
        "id": "rdMrd8V9HLoE",
        "colab_type": "code",
        "outputId": "2c80cadc-938b-4467-82bc-86a29115d178",
        "colab": {
          "base_uri": "https://localhost:8080/",
          "height": 35
        }
      },
      "source": [
        "Counter(df[(df.month >=6) & (df.month <= 8)].month)"
      ],
      "execution_count": 0,
      "outputs": [
        {
          "output_type": "execute_result",
          "data": {
            "text/plain": [
              "Counter({6: 147, 7: 142, 8: 161})"
            ]
          },
          "metadata": {
            "tags": []
          },
          "execution_count": 31
        }
      ]
    },
    {
      "cell_type": "code",
      "metadata": {
        "trusted": true,
        "id": "bQ0rerKla1th",
        "colab_type": "code",
        "colab": {}
      },
      "source": [
        "answer_ls.append(2)"
      ],
      "execution_count": 0,
      "outputs": []
    },
    {
      "cell_type": "markdown",
      "metadata": {
        "id": "449iYVzja1tj",
        "colab_type": "text"
      },
      "source": [
        "# 29. Какой режисер выпускает (суммарно по годам) больше всего фильмов зимой?\n",
        "Варианты ответов:\n",
        "1. Steven Soderbergh\n",
        "2. Christopher Nolan\n",
        "3. Clint Eastwood\n",
        "4. Ridley Scott\n",
        "5. Peter Jackson"
      ]
    },
    {
      "cell_type": "code",
      "metadata": {
        "id": "4KPi1FFuKGYR",
        "colab_type": "code",
        "outputId": "677db9e8-36ee-4bea-890d-e67d83ba1fe6",
        "colab": {
          "base_uri": "https://localhost:8080/",
          "height": 35
        }
      },
      "source": [
        "len(df)"
      ],
      "execution_count": 0,
      "outputs": [
        {
          "output_type": "execute_result",
          "data": {
            "text/plain": [
              "1890"
            ]
          },
          "metadata": {
            "tags": []
          },
          "execution_count": 44
        }
      ]
    },
    {
      "cell_type": "code",
      "metadata": {
        "id": "NqEe-ghSInxA",
        "colab_type": "code",
        "outputId": "b20e8a9d-ab64-47f9-a267-50e26caa284b",
        "colab": {
          "base_uri": "https://localhost:8080/",
          "height": 35
        }
      },
      "source": [
        "df[(df.month == 1) | (df.month == 2) | (df.month == 12)].director_list.sum().most_common(1)"
      ],
      "execution_count": 0,
      "outputs": [
        {
          "output_type": "execute_result",
          "data": {
            "text/plain": [
              "[('Peter Jackson', 7)]"
            ]
          },
          "metadata": {
            "tags": []
          },
          "execution_count": 57
        }
      ]
    },
    {
      "cell_type": "code",
      "metadata": {
        "trusted": true,
        "id": "y_NfHaVOa1tk",
        "colab_type": "code",
        "colab": {}
      },
      "source": [
        "answer_ls.append(1)"
      ],
      "execution_count": 0,
      "outputs": []
    },
    {
      "cell_type": "markdown",
      "metadata": {
        "id": "A2axezWIa1tm",
        "colab_type": "text"
      },
      "source": [
        "# 30. Какой месяц чаще всего по годам самый прибыльный?\n",
        "Варианты ответа:\n",
        "1. Январь\n",
        "2. Июнь\n",
        "3. Декабрь\n",
        "4. Сентябрь\n",
        "5. Май"
      ]
    },
    {
      "cell_type": "code",
      "metadata": {
        "id": "hBCxAYrQLTzf",
        "colab_type": "code",
        "colab": {}
      },
      "source": [
        "pivo = pd.pivot_table(df[(df.month == 1)|(df.month == 6)|(df.month == 12)|(df.month == 9)|(df.month == 5)],index=[\"year\",\"month\"], \n",
        "               values=[\"loss\"],\n",
        "               aggfunc=sum)"
      ],
      "execution_count": 0,
      "outputs": []
    },
    {
      "cell_type": "code",
      "metadata": {
        "id": "hpOb5pPMdGUN",
        "colab_type": "code",
        "outputId": "7ba0d6b6-2a11-4a12-bfca-18f94f31f420",
        "colab": {
          "base_uri": "https://localhost:8080/",
          "height": 104
        }
      },
      "source": [
        "pivot_best_month = df[['year', 'month', 'loss']].pivot_table(\n",
        "    values = ['loss'], \n",
        "    index = ['month'], \n",
        "    columns=['year'], \n",
        "    aggfunc='sum')\n",
        "pivot_best_month.idxmax(axis = 0).value_counts()"
      ],
      "execution_count": 0,
      "outputs": [
        {
          "output_type": "execute_result",
          "data": {
            "text/plain": [
              "6     7\n",
              "12    4\n",
              "5     4\n",
              "7     1\n",
              "dtype: int64"
            ]
          },
          "metadata": {
            "tags": []
          },
          "execution_count": 47
        }
      ]
    },
    {
      "cell_type": "code",
      "metadata": {
        "trusted": true,
        "id": "sylDG-pma1tn",
        "colab_type": "code",
        "colab": {}
      },
      "source": [
        "answer_ls.append(2)"
      ],
      "execution_count": 0,
      "outputs": []
    },
    {
      "cell_type": "markdown",
      "metadata": {
        "id": "MtOqs2_3a1tp",
        "colab_type": "text"
      },
      "source": [
        "# 31. Названия фильмов какой студии в среднем самые длинные по количеству символов?\n",
        "Варианты ответа:\n",
        "1. Universal Pictures (Universal)\n",
        "2. Warner Bros\n",
        "3. Jim Henson Company, The\n",
        "4. Paramount Pictures\n",
        "5. Four By Two Productions"
      ]
    },
    {
      "cell_type": "code",
      "metadata": {
        "id": "6CHxxHn8ZkZ2",
        "colab_type": "code",
        "colab": {}
      },
      "source": [
        "df['symbols'] = df.original_title.apply(lambda x: len(x))\n"
      ],
      "execution_count": 0,
      "outputs": []
    },
    {
      "cell_type": "code",
      "metadata": {
        "id": "mespa5rMcwT-",
        "colab_type": "code",
        "outputId": "7b260e88-d023-4af7-df39-a99dfbc1c695",
        "colab": {
          "base_uri": "https://localhost:8080/",
          "height": 35
        }
      },
      "source": [
        "wb = df[df.production_companies.apply(lambda x: 'Warner Bros' in x)]['symbols'].mean()\n",
        "uni = df[df.production_companies.apply(lambda x: 'Universal' in x)]['symbols'].mean()\n",
        "jhc = df[df.production_companies.apply(lambda x: 'Jim Henson Company' in x)]['symbols'].mean()\n",
        "pp = df[df.production_companies.apply(lambda x: 'Paramount Pictures' in x)]['symbols'].mean()\n",
        "four = df[df.production_companies.apply(lambda x: 'Four By Two Productions' in x)]['symbols'].mean()\n",
        "\n",
        "a = [uni, wb, jhc, pp, four]\n",
        "\n",
        "a"
      ],
      "execution_count": 0,
      "outputs": [
        {
          "output_type": "execute_result",
          "data": {
            "text/plain": [
              "[14.762162162162163, 15.251366120218579, 59.0, 17.0327868852459, 83.0]"
            ]
          },
          "metadata": {
            "tags": []
          },
          "execution_count": 20
        }
      ]
    },
    {
      "cell_type": "code",
      "metadata": {
        "trusted": true,
        "id": "UGcu6w5ea1tq",
        "colab_type": "code",
        "colab": {}
      },
      "source": [
        "answer_ls.append(5)"
      ],
      "execution_count": 0,
      "outputs": []
    },
    {
      "cell_type": "markdown",
      "metadata": {
        "id": "K9mQNA9sa1tr",
        "colab_type": "text"
      },
      "source": [
        "# 32. Названия фильмов какой студии в среднем самые длинные по количеству слов?\n",
        "Варианты ответа:\n",
        "1. Universal Pictures (Universal)\n",
        "2. Warner Bros\n",
        "3. Jim Henson Company, The\n",
        "4. Paramount Pictures\n",
        "5. Four By Two Productions"
      ]
    },
    {
      "cell_type": "code",
      "metadata": {
        "id": "c7WHFiOPeF0O",
        "colab_type": "code",
        "colab": {}
      },
      "source": [
        "df['words'] = df.original_title.apply(lambda x: len(x.split()))\n"
      ],
      "execution_count": 0,
      "outputs": []
    },
    {
      "cell_type": "code",
      "metadata": {
        "id": "85f2DUrOeje5",
        "colab_type": "code",
        "outputId": "d8b3c2cf-7d73-4a3e-8255-77981387e452",
        "colab": {
          "base_uri": "https://localhost:8080/",
          "height": 35
        }
      },
      "source": [
        "wb = df[df.production_companies.apply(lambda x: 'Warner Bros' in x)]['words'].mean()\n",
        "uni = df[df.production_companies.apply(lambda x: 'Universal' in x)]['words'].mean()\n",
        "jhc = df[df.production_companies.apply(lambda x: 'Jim Henson Company' in x)]['words'].mean()\n",
        "pp = df[df.production_companies.apply(lambda x: 'Paramount Pictures' in x)]['words'].mean()\n",
        "four = df[df.production_companies.apply(lambda x: 'Four By Two Productions' in x)]['words'].mean()\n",
        "\n",
        "a = [uni, wb, jhc, pp, four]\n",
        "\n",
        "a"
      ],
      "execution_count": 0,
      "outputs": [
        {
          "output_type": "execute_result",
          "data": {
            "text/plain": [
              "[2.627027027027027, 2.73224043715847, 10.0, 2.8688524590163933, 12.0]"
            ]
          },
          "metadata": {
            "tags": []
          },
          "execution_count": 27
        }
      ]
    },
    {
      "cell_type": "code",
      "metadata": {
        "trusted": true,
        "id": "wtSZVLHca1ts",
        "colab_type": "code",
        "colab": {}
      },
      "source": [
        "answer_ls.append(5)"
      ],
      "execution_count": 0,
      "outputs": []
    },
    {
      "cell_type": "markdown",
      "metadata": {
        "id": "FG1w5ZHNa1tx",
        "colab_type": "text"
      },
      "source": [
        "# 33. Сколько разных слов используется в названиях фильмов?(без учета регистра)\n",
        "Варианты ответа:\n",
        "1. 6540\n",
        "2. 1002\n",
        "3. 2461\n",
        "4. 28304\n",
        "5. 3432"
      ]
    },
    {
      "cell_type": "code",
      "metadata": {
        "id": "JSn6kP_oe5RO",
        "colab_type": "code",
        "outputId": "128d7d3a-42f3-404a-b95a-3fe7c9dacaba",
        "colab": {
          "base_uri": "https://localhost:8080/",
          "height": 35
        }
      },
      "source": [
        "df['title_list'] = df.original_title.apply(lambda x: x.split())\n",
        "words = df['title_list']\n",
        "words_mini = [x.lower() for x in words]\n",
        "wtup = set(words_mini)\n",
        "len(wtup)"
      ],
      "execution_count": 0,
      "outputs": [
        {
          "output_type": "execute_result",
          "data": {
            "text/plain": [
              "2461"
            ]
          },
          "metadata": {
            "tags": []
          },
          "execution_count": 51
        }
      ]
    },
    {
      "cell_type": "code",
      "metadata": {
        "trusted": true,
        "id": "wntJ_BZHa1ty",
        "colab_type": "code",
        "colab": {}
      },
      "source": [
        "answer_ls.append(3)"
      ],
      "execution_count": 0,
      "outputs": []
    },
    {
      "cell_type": "markdown",
      "metadata": {
        "id": "cXvwZFwda1t0",
        "colab_type": "text"
      },
      "source": [
        "# 34. Какие фильмы входят в 1 процент лучших по рейтингу?\n",
        "Варианты ответа:\n",
        "1. Inside Out, Gone Girl, 12 Years a Slave\n",
        "2. BloodRayne, The Adventures of Rocky & Bullwinkle\n",
        "3. The Lord of the Rings: The Return of the King\n",
        "4. 300, Lucky Number Slevin"
      ]
    },
    {
      "cell_type": "code",
      "metadata": {
        "id": "jdlDu-Q_B5n5",
        "colab_type": "code",
        "outputId": "bed00c33-b16b-41ee-d389-168a7d0b6c67",
        "colab": {
          "base_uri": "https://localhost:8080/",
          "height": 1000
        }
      },
      "source": [
        "df[df.vote_average >= np.percentile(df.vote_average,99)]\n"
      ],
      "execution_count": 0,
      "outputs": [
        {
          "output_type": "execute_result",
          "data": {
            "text/html": [
              "<div>\n",
              "<style scoped>\n",
              "    .dataframe tbody tr th:only-of-type {\n",
              "        vertical-align: middle;\n",
              "    }\n",
              "\n",
              "    .dataframe tbody tr th {\n",
              "        vertical-align: top;\n",
              "    }\n",
              "\n",
              "    .dataframe thead th {\n",
              "        text-align: right;\n",
              "    }\n",
              "</style>\n",
              "<table border=\"1\" class=\"dataframe\">\n",
              "  <thead>\n",
              "    <tr style=\"text-align: right;\">\n",
              "      <th></th>\n",
              "      <th>imdb_id</th>\n",
              "      <th>popularity</th>\n",
              "      <th>budget</th>\n",
              "      <th>revenue</th>\n",
              "      <th>original_title</th>\n",
              "      <th>cast</th>\n",
              "      <th>director</th>\n",
              "      <th>tagline</th>\n",
              "      <th>overview</th>\n",
              "      <th>runtime</th>\n",
              "      <th>genres</th>\n",
              "      <th>production_companies</th>\n",
              "      <th>release_date</th>\n",
              "      <th>vote_count</th>\n",
              "      <th>vote_average</th>\n",
              "      <th>release_year</th>\n",
              "      <th>loss</th>\n",
              "      <th>year</th>\n",
              "      <th>genre_list</th>\n",
              "      <th>director_list</th>\n",
              "      <th>actor_list</th>\n",
              "      <th>income_pre_actor</th>\n",
              "      <th>studio_list</th>\n",
              "      <th>month</th>\n",
              "      <th>symbols</th>\n",
              "      <th>words</th>\n",
              "      <th>title_list</th>\n",
              "    </tr>\n",
              "  </thead>\n",
              "  <tbody>\n",
              "    <tr>\n",
              "      <th>9</th>\n",
              "      <td>tt2096673</td>\n",
              "      <td>6.326804</td>\n",
              "      <td>175000000</td>\n",
              "      <td>853708609</td>\n",
              "      <td>Inside Out</td>\n",
              "      <td>Amy Poehler|Phyllis Smith|Richard Kind|Bill Ha...</td>\n",
              "      <td>Pete Docter</td>\n",
              "      <td>Meet the little voices inside your head.</td>\n",
              "      <td>Growing up can be a bumpy road, and it's no ex...</td>\n",
              "      <td>94</td>\n",
              "      <td>Comedy|Animation|Family</td>\n",
              "      <td>Walt Disney Pictures|Pixar Animation Studios|W...</td>\n",
              "      <td>6/9/2015</td>\n",
              "      <td>3935</td>\n",
              "      <td>8.0</td>\n",
              "      <td>2015</td>\n",
              "      <td>678708609</td>\n",
              "      <td>2015</td>\n",
              "      <td>{'Comedy': 1, 'Animation': 1, 'Family': 1}</td>\n",
              "      <td>{'Pete Docter': 1}</td>\n",
              "      <td>[Amy Poehler, Phyllis Smith, Richard Kind, Bil...</td>\n",
              "      <td>359105.084127</td>\n",
              "      <td>[Walt Disney Pictures, Pixar Animation Studios...</td>\n",
              "      <td>6</td>\n",
              "      <td>10</td>\n",
              "      <td>2</td>\n",
              "      <td>[Inside, Out]</td>\n",
              "    </tr>\n",
              "    <tr>\n",
              "      <th>28</th>\n",
              "      <td>tt1895587</td>\n",
              "      <td>4.062293</td>\n",
              "      <td>20000000</td>\n",
              "      <td>88346473</td>\n",
              "      <td>Spotlight</td>\n",
              "      <td>Mark Ruffalo|Michael Keaton|Rachel McAdams|Lie...</td>\n",
              "      <td>Tom McCarthy</td>\n",
              "      <td>Break the story. Break the silence.</td>\n",
              "      <td>The true story of how The Boston Globe uncover...</td>\n",
              "      <td>128</td>\n",
              "      <td>Drama|Thriller|History</td>\n",
              "      <td>Participant Media|Open Road Films|Anonymous Co...</td>\n",
              "      <td>11/6/2015</td>\n",
              "      <td>1559</td>\n",
              "      <td>7.8</td>\n",
              "      <td>2015</td>\n",
              "      <td>68346473</td>\n",
              "      <td>2015</td>\n",
              "      <td>{'Drama': 1, 'Thriller': 1, 'History': 1}</td>\n",
              "      <td>{'Tom McCarthy': 1}</td>\n",
              "      <td>[Mark Ruffalo, Michael Keaton, Rachel McAdams,...</td>\n",
              "      <td>36162.155026</td>\n",
              "      <td>[Participant Media, Open Road Films, Anonymous...</td>\n",
              "      <td>11</td>\n",
              "      <td>9</td>\n",
              "      <td>1</td>\n",
              "      <td>[Spotlight]</td>\n",
              "    </tr>\n",
              "    <tr>\n",
              "      <th>34</th>\n",
              "      <td>tt3170832</td>\n",
              "      <td>3.557846</td>\n",
              "      <td>6000000</td>\n",
              "      <td>35401758</td>\n",
              "      <td>Room</td>\n",
              "      <td>Brie Larson|Jacob Tremblay|Joan Allen|Sean Bri...</td>\n",
              "      <td>Lenny Abrahamson</td>\n",
              "      <td>Love knows no boundaries</td>\n",
              "      <td>Jack is a young boy of 5 years old who has liv...</td>\n",
              "      <td>117</td>\n",
              "      <td>Drama|Thriller</td>\n",
              "      <td>Element Pictures|No Trace Camping|A24|Duperele...</td>\n",
              "      <td>10/16/2015</td>\n",
              "      <td>1520</td>\n",
              "      <td>8.0</td>\n",
              "      <td>2015</td>\n",
              "      <td>29401758</td>\n",
              "      <td>2015</td>\n",
              "      <td>{'Drama': 1, 'Thriller': 1}</td>\n",
              "      <td>{'Lenny Abrahamson': 1}</td>\n",
              "      <td>[Brie Larson, Jacob Tremblay, Joan Allen, Sean...</td>\n",
              "      <td>15556.485714</td>\n",
              "      <td>[Element Pictures, No Trace Camping, A24, Dupe...</td>\n",
              "      <td>10</td>\n",
              "      <td>4</td>\n",
              "      <td>1</td>\n",
              "      <td>[Room]</td>\n",
              "    </tr>\n",
              "    <tr>\n",
              "      <th>118</th>\n",
              "      <td>tt0816692</td>\n",
              "      <td>24.949134</td>\n",
              "      <td>165000000</td>\n",
              "      <td>621752480</td>\n",
              "      <td>Interstellar</td>\n",
              "      <td>Matthew McConaughey|Jessica Chastain|Anne Hath...</td>\n",
              "      <td>Christopher Nolan</td>\n",
              "      <td>Mankind was born on Earth. It was never meant ...</td>\n",
              "      <td>Interstellar chronicles the adventures of a gr...</td>\n",
              "      <td>169</td>\n",
              "      <td>Adventure|Drama|Science Fiction</td>\n",
              "      <td>Paramount Pictures|Legendary Pictures|Warner B...</td>\n",
              "      <td>11/5/2014</td>\n",
              "      <td>6498</td>\n",
              "      <td>8.0</td>\n",
              "      <td>2014</td>\n",
              "      <td>456752480</td>\n",
              "      <td>2014</td>\n",
              "      <td>{'Adventure': 1, 'Drama': 1, 'Science Fiction'...</td>\n",
              "      <td>{'Christopher Nolan': 1}</td>\n",
              "      <td>[Matthew McConaughey, Jessica Chastain, Anne H...</td>\n",
              "      <td>241667.978836</td>\n",
              "      <td>[Paramount Pictures, Legendary Pictures, Warne...</td>\n",
              "      <td>11</td>\n",
              "      <td>12</td>\n",
              "      <td>1</td>\n",
              "      <td>[Interstellar]</td>\n",
              "    </tr>\n",
              "    <tr>\n",
              "      <th>119</th>\n",
              "      <td>tt2015381</td>\n",
              "      <td>14.311205</td>\n",
              "      <td>170000000</td>\n",
              "      <td>773312399</td>\n",
              "      <td>Guardians of the Galaxy</td>\n",
              "      <td>Chris Pratt|Zoe Saldana|Dave Bautista|Vin Dies...</td>\n",
              "      <td>James Gunn</td>\n",
              "      <td>All heroes start somewhere.</td>\n",
              "      <td>Light years from Earth, 26 years after being a...</td>\n",
              "      <td>121</td>\n",
              "      <td>Action|Science Fiction|Adventure</td>\n",
              "      <td>Marvel Studios|Moving Picture Company (MPC)|Bu...</td>\n",
              "      <td>7/30/2014</td>\n",
              "      <td>5612</td>\n",
              "      <td>7.9</td>\n",
              "      <td>2014</td>\n",
              "      <td>603312399</td>\n",
              "      <td>2014</td>\n",
              "      <td>{'Action': 1, 'Science Fiction': 1, 'Adventure...</td>\n",
              "      <td>{'James Gunn': 1}</td>\n",
              "      <td>[Chris Pratt, Zoe Saldana, Dave Bautista, Vin ...</td>\n",
              "      <td>319212.909524</td>\n",
              "      <td>[Marvel Studios, Moving Picture Company (MPC),...</td>\n",
              "      <td>7</td>\n",
              "      <td>23</td>\n",
              "      <td>4</td>\n",
              "      <td>[Guardians, of, the, Galaxy]</td>\n",
              "    </tr>\n",
              "    <tr>\n",
              "      <th>124</th>\n",
              "      <td>tt2245084</td>\n",
              "      <td>8.691294</td>\n",
              "      <td>165000000</td>\n",
              "      <td>652105443</td>\n",
              "      <td>Big Hero 6</td>\n",
              "      <td>Scott Adsit|Ryan Potter|Daniel Henney|T.J. Mil...</td>\n",
              "      <td>Don Hall|Chris Williams</td>\n",
              "      <td>From the creators of Wreck-it Ralph and Frozen</td>\n",
              "      <td>The special bond that develops between plus-si...</td>\n",
              "      <td>102</td>\n",
              "      <td>Adventure|Family|Animation|Action|Comedy</td>\n",
              "      <td>Walt Disney Pictures|Walt Disney Animation Stu...</td>\n",
              "      <td>10/24/2014</td>\n",
              "      <td>4185</td>\n",
              "      <td>7.8</td>\n",
              "      <td>2014</td>\n",
              "      <td>487105443</td>\n",
              "      <td>2014</td>\n",
              "      <td>{'Adventure': 1, 'Family': 1, 'Animation': 1, ...</td>\n",
              "      <td>{'Don Hall': 1, 'Chris Williams': 1}</td>\n",
              "      <td>[Scott Adsit, Ryan Potter, Daniel Henney, T.J....</td>\n",
              "      <td>257727.747619</td>\n",
              "      <td>[Walt Disney Pictures, Walt Disney Animation S...</td>\n",
              "      <td>10</td>\n",
              "      <td>10</td>\n",
              "      <td>3</td>\n",
              "      <td>[Big, Hero, 6]</td>\n",
              "    </tr>\n",
              "    <tr>\n",
              "      <th>125</th>\n",
              "      <td>tt2084970</td>\n",
              "      <td>8.110711</td>\n",
              "      <td>14000000</td>\n",
              "      <td>233555708</td>\n",
              "      <td>The Imitation Game</td>\n",
              "      <td>Benedict Cumberbatch|Keira Knightley|Matthew G...</td>\n",
              "      <td>Morten Tyldum</td>\n",
              "      <td>The true enigma was the man who cracked the code.</td>\n",
              "      <td>Based on the real life story of legendary cryp...</td>\n",
              "      <td>113</td>\n",
              "      <td>History|Drama|Thriller|War</td>\n",
              "      <td>Black Bear Pictures|Bristol Automotive</td>\n",
              "      <td>11/14/2014</td>\n",
              "      <td>3478</td>\n",
              "      <td>8.0</td>\n",
              "      <td>2014</td>\n",
              "      <td>219555708</td>\n",
              "      <td>2014</td>\n",
              "      <td>{'History': 1, 'Drama': 1, 'Thriller': 1, 'War...</td>\n",
              "      <td>{'Morten Tyldum': 1}</td>\n",
              "      <td>[Benedict Cumberbatch, Keira Knightley, Matthe...</td>\n",
              "      <td>116167.041270</td>\n",
              "      <td>[Black Bear Pictures, Bristol Automotive]</td>\n",
              "      <td>11</td>\n",
              "      <td>18</td>\n",
              "      <td>3</td>\n",
              "      <td>[The, Imitation, Game]</td>\n",
              "    </tr>\n",
              "    <tr>\n",
              "      <th>128</th>\n",
              "      <td>tt2267998</td>\n",
              "      <td>6.438727</td>\n",
              "      <td>61000000</td>\n",
              "      <td>369330363</td>\n",
              "      <td>Gone Girl</td>\n",
              "      <td>Ben Affleck|Rosamund Pike|Carrie Coon|Neil Pat...</td>\n",
              "      <td>David Fincher</td>\n",
              "      <td>You don't know what you've got 'til it's...</td>\n",
              "      <td>With his wife's disappearance having become th...</td>\n",
              "      <td>145</td>\n",
              "      <td>Mystery|Thriller|Drama</td>\n",
              "      <td>Twentieth Century Fox Film Corporation|Regency...</td>\n",
              "      <td>10/1/2014</td>\n",
              "      <td>3720</td>\n",
              "      <td>7.9</td>\n",
              "      <td>2014</td>\n",
              "      <td>308330363</td>\n",
              "      <td>2014</td>\n",
              "      <td>{'Mystery': 1, 'Thriller': 1, 'Drama': 1}</td>\n",
              "      <td>{'David Fincher': 1}</td>\n",
              "      <td>[Ben Affleck, Rosamund Pike, Carrie Coon, Neil...</td>\n",
              "      <td>163137.758201</td>\n",
              "      <td>[Twentieth Century Fox Film Corporation, Regen...</td>\n",
              "      <td>10</td>\n",
              "      <td>9</td>\n",
              "      <td>2</td>\n",
              "      <td>[Gone, Girl]</td>\n",
              "    </tr>\n",
              "    <tr>\n",
              "      <th>138</th>\n",
              "      <td>tt2278388</td>\n",
              "      <td>4.930820</td>\n",
              "      <td>30000000</td>\n",
              "      <td>174600318</td>\n",
              "      <td>The Grand Budapest Hotel</td>\n",
              "      <td>Ralph Fiennes|Tony Revolori|F. Murray Abraham|...</td>\n",
              "      <td>Wes Anderson</td>\n",
              "      <td>A perfect holiday without leaving home.</td>\n",
              "      <td>The Grand Budapest Hotel tells of a legendary ...</td>\n",
              "      <td>99</td>\n",
              "      <td>Comedy|Drama</td>\n",
              "      <td>Fox Searchlight Pictures|Scott Rudin Productio...</td>\n",
              "      <td>2/26/2014</td>\n",
              "      <td>2802</td>\n",
              "      <td>7.9</td>\n",
              "      <td>2014</td>\n",
              "      <td>144600318</td>\n",
              "      <td>2014</td>\n",
              "      <td>{'Comedy': 1, 'Drama': 1}</td>\n",
              "      <td>{'Wes Anderson': 1}</td>\n",
              "      <td>[Ralph Fiennes, Tony Revolori, F. Murray Abrah...</td>\n",
              "      <td>76508.104762</td>\n",
              "      <td>[Fox Searchlight Pictures, Scott Rudin Product...</td>\n",
              "      <td>2</td>\n",
              "      <td>24</td>\n",
              "      <td>4</td>\n",
              "      <td>[The, Grand, Budapest, Hotel]</td>\n",
              "    </tr>\n",
              "    <tr>\n",
              "      <th>155</th>\n",
              "      <td>tt2980516</td>\n",
              "      <td>3.170271</td>\n",
              "      <td>15000000</td>\n",
              "      <td>121201940</td>\n",
              "      <td>The Theory of Everything</td>\n",
              "      <td>Eddie Redmayne|Felicity Jones|Harry Lloyd|Davi...</td>\n",
              "      <td>James Marsh</td>\n",
              "      <td>His Mind Changed Our World. Her Love Changed His.</td>\n",
              "      <td>A look at the relationship between the famous ...</td>\n",
              "      <td>123</td>\n",
              "      <td>Drama|Romance</td>\n",
              "      <td>Working Title Films</td>\n",
              "      <td>11/26/2014</td>\n",
              "      <td>1960</td>\n",
              "      <td>7.8</td>\n",
              "      <td>2014</td>\n",
              "      <td>106201940</td>\n",
              "      <td>2014</td>\n",
              "      <td>{'Drama': 1, 'Romance': 1}</td>\n",
              "      <td>{'James Marsh': 1}</td>\n",
              "      <td>[Eddie Redmayne, Felicity Jones, Harry Lloyd, ...</td>\n",
              "      <td>56191.502646</td>\n",
              "      <td>[Working Title Films]</td>\n",
              "      <td>11</td>\n",
              "      <td>24</td>\n",
              "      <td>4</td>\n",
              "      <td>[The, Theory, of, Everything]</td>\n",
              "    </tr>\n",
              "    <tr>\n",
              "      <th>177</th>\n",
              "      <td>tt2582846</td>\n",
              "      <td>2.293859</td>\n",
              "      <td>12000000</td>\n",
              "      <td>305151265</td>\n",
              "      <td>The Fault in Our Stars</td>\n",
              "      <td>Shailene Woodley|Ansel Elgort|Nat Wolff|Laura ...</td>\n",
              "      <td>Josh Boone</td>\n",
              "      <td>One Sick Love Story</td>\n",
              "      <td>Despite the tumor-shrinking medical miracle th...</td>\n",
              "      <td>125</td>\n",
              "      <td>Romance|Drama</td>\n",
              "      <td>Fox 2000 Pictures|Temple Hill Entertainment|TS...</td>\n",
              "      <td>5/16/2014</td>\n",
              "      <td>2389</td>\n",
              "      <td>7.8</td>\n",
              "      <td>2014</td>\n",
              "      <td>293151265</td>\n",
              "      <td>2014</td>\n",
              "      <td>{'Romance': 1, 'Drama': 1}</td>\n",
              "      <td>{'Josh Boone': 1}</td>\n",
              "      <td>[Shailene Woodley, Ansel Elgort, Nat Wolff, La...</td>\n",
              "      <td>155106.489418</td>\n",
              "      <td>[Fox 2000 Pictures, Temple Hill Entertainment,...</td>\n",
              "      <td>5</td>\n",
              "      <td>22</td>\n",
              "      <td>5</td>\n",
              "      <td>[The, Fault, in, Our, Stars]</td>\n",
              "    </tr>\n",
              "    <tr>\n",
              "      <th>283</th>\n",
              "      <td>tt0485947</td>\n",
              "      <td>1.260010</td>\n",
              "      <td>47000000</td>\n",
              "      <td>3547209</td>\n",
              "      <td>Mr. Nobody</td>\n",
              "      <td>Jared Leto|Diane Kruger|Linh Äan Pháº¡m|Sarah ...</td>\n",
              "      <td>Jaco Van Dormael</td>\n",
              "      <td>Nothing is real, everything is possible.</td>\n",
              "      <td>Nemo Nobody leads an ordinary existence with h...</td>\n",
              "      <td>141</td>\n",
              "      <td>Science Fiction|Drama|Romance|Fantasy</td>\n",
              "      <td>Pan EuropÃ©enne Production|Virtual Films</td>\n",
              "      <td>9/11/2009</td>\n",
              "      <td>827</td>\n",
              "      <td>7.8</td>\n",
              "      <td>2009</td>\n",
              "      <td>-43452791</td>\n",
              "      <td>2009</td>\n",
              "      <td>{'Science Fiction': 1, 'Drama': 1, 'Romance': ...</td>\n",
              "      <td>{'Jaco Van Dormael': 1}</td>\n",
              "      <td>[Jared Leto, Diane Kruger, Linh Äan Pháº¡m, Sa...</td>\n",
              "      <td>-22990.894709</td>\n",
              "      <td>[Pan EuropÃ©enne Production, Virtual Films]</td>\n",
              "      <td>9</td>\n",
              "      <td>10</td>\n",
              "      <td>2</td>\n",
              "      <td>[Mr., Nobody]</td>\n",
              "    </tr>\n",
              "    <tr>\n",
              "      <th>316</th>\n",
              "      <td>tt1187043</td>\n",
              "      <td>0.816681</td>\n",
              "      <td>9000000</td>\n",
              "      <td>70000000</td>\n",
              "      <td>3 Idiots</td>\n",
              "      <td>Aamir Khan|Kareena Kapoor|Madhavan|Sharman Jos...</td>\n",
              "      <td>Rajkumar Hirani</td>\n",
              "      <td>Don't BE A STUPID BE AN I.D.I.O.T.</td>\n",
              "      <td>In the tradition of â€œFerris Buellerâ€™s Day ...</td>\n",
              "      <td>170</td>\n",
              "      <td>Drama|Comedy|Romance</td>\n",
              "      <td>Vidhu Vinod Chopra Productions</td>\n",
              "      <td>12/23/2009</td>\n",
              "      <td>662</td>\n",
              "      <td>7.8</td>\n",
              "      <td>2009</td>\n",
              "      <td>61000000</td>\n",
              "      <td>2009</td>\n",
              "      <td>{'Drama': 1, 'Comedy': 1, 'Romance': 1}</td>\n",
              "      <td>{'Rajkumar Hirani': 1}</td>\n",
              "      <td>[Aamir Khan, Kareena Kapoor, Madhavan, Sharman...</td>\n",
              "      <td>32275.132275</td>\n",
              "      <td>[Vidhu Vinod Chopra Productions]</td>\n",
              "      <td>12</td>\n",
              "      <td>8</td>\n",
              "      <td>2</td>\n",
              "      <td>[3, Idiots]</td>\n",
              "    </tr>\n",
              "    <tr>\n",
              "      <th>370</th>\n",
              "      <td>tt1375666</td>\n",
              "      <td>9.363643</td>\n",
              "      <td>160000000</td>\n",
              "      <td>825500000</td>\n",
              "      <td>Inception</td>\n",
              "      <td>Leonardo DiCaprio|Joseph Gordon-Levitt|Ellen P...</td>\n",
              "      <td>Christopher Nolan</td>\n",
              "      <td>Your mind is the scene of the crime.</td>\n",
              "      <td>Cobb, a skilled thief who commits corporate es...</td>\n",
              "      <td>148</td>\n",
              "      <td>Action|Thriller|Science Fiction|Mystery|Adventure</td>\n",
              "      <td>Legendary Pictures|Warner Bros.|Syncopy</td>\n",
              "      <td>7/14/2010</td>\n",
              "      <td>9767</td>\n",
              "      <td>7.9</td>\n",
              "      <td>2010</td>\n",
              "      <td>665500000</td>\n",
              "      <td>2010</td>\n",
              "      <td>{'Action': 1, 'Thriller': 1, 'Science Fiction'...</td>\n",
              "      <td>{'Christopher Nolan': 1}</td>\n",
              "      <td>[Leonardo DiCaprio, Joseph Gordon-Levitt, Elle...</td>\n",
              "      <td>352116.402116</td>\n",
              "      <td>[Legendary Pictures, Warner Bros., Syncopy]</td>\n",
              "      <td>7</td>\n",
              "      <td>9</td>\n",
              "      <td>1</td>\n",
              "      <td>[Inception]</td>\n",
              "    </tr>\n",
              "    <tr>\n",
              "      <th>497</th>\n",
              "      <td>tt0120737</td>\n",
              "      <td>8.575419</td>\n",
              "      <td>93000000</td>\n",
              "      <td>871368364</td>\n",
              "      <td>The Lord of the Rings: The Fellowship of the Ring</td>\n",
              "      <td>Elijah Wood|Ian McKellen|Viggo Mortensen|Liv T...</td>\n",
              "      <td>Peter Jackson</td>\n",
              "      <td>One ring to rule them all</td>\n",
              "      <td>Young hobbit Frodo Baggins, after inheriting a...</td>\n",
              "      <td>178</td>\n",
              "      <td>Adventure|Fantasy|Action</td>\n",
              "      <td>WingNut Films|New Line Cinema|The Saul Zaentz ...</td>\n",
              "      <td>12/18/2001</td>\n",
              "      <td>6079</td>\n",
              "      <td>7.8</td>\n",
              "      <td>2001</td>\n",
              "      <td>778368364</td>\n",
              "      <td>2001</td>\n",
              "      <td>{'Adventure': 1, 'Fantasy': 1, 'Action': 1}</td>\n",
              "      <td>{'Peter Jackson': 1}</td>\n",
              "      <td>[Elijah Wood, Ian McKellen, Viggo Mortensen, L...</td>\n",
              "      <td>411835.113228</td>\n",
              "      <td>[WingNut Films, New Line Cinema, The Saul Zaen...</td>\n",
              "      <td>12</td>\n",
              "      <td>49</td>\n",
              "      <td>10</td>\n",
              "      <td>[The, Lord, of, the, Rings:, The, Fellowship, ...</td>\n",
              "    </tr>\n",
              "    <tr>\n",
              "      <th>600</th>\n",
              "      <td>tt0468569</td>\n",
              "      <td>8.466668</td>\n",
              "      <td>185000000</td>\n",
              "      <td>1001921825</td>\n",
              "      <td>The Dark Knight</td>\n",
              "      <td>Christian Bale|Michael Caine|Heath Ledger|Aaro...</td>\n",
              "      <td>Christopher Nolan</td>\n",
              "      <td>Why So Serious?</td>\n",
              "      <td>Batman raises the stakes in his war on crime. ...</td>\n",
              "      <td>152</td>\n",
              "      <td>Drama|Action|Crime|Thriller</td>\n",
              "      <td>DC Comics|Legendary Pictures|Warner Bros.|Syncopy</td>\n",
              "      <td>7/16/2008</td>\n",
              "      <td>8432</td>\n",
              "      <td>8.1</td>\n",
              "      <td>2008</td>\n",
              "      <td>816921825</td>\n",
              "      <td>2008</td>\n",
              "      <td>{'Drama': 1, 'Action': 1, 'Crime': 1, 'Thrille...</td>\n",
              "      <td>{'Christopher Nolan': 1}</td>\n",
              "      <td>[Christian Bale, Michael Caine, Heath Ledger, ...</td>\n",
              "      <td>432233.769841</td>\n",
              "      <td>[DC Comics, Legendary Pictures, Warner Bros., ...</td>\n",
              "      <td>7</td>\n",
              "      <td>15</td>\n",
              "      <td>3</td>\n",
              "      <td>[The, Dark, Knight]</td>\n",
              "    </tr>\n",
              "    <tr>\n",
              "      <th>864</th>\n",
              "      <td>tt0167261</td>\n",
              "      <td>8.095275</td>\n",
              "      <td>79000000</td>\n",
              "      <td>926287400</td>\n",
              "      <td>The Lord of the Rings: The Two Towers</td>\n",
              "      <td>Elijah Wood|Ian McKellen|Viggo Mortensen|Liv T...</td>\n",
              "      <td>Peter Jackson</td>\n",
              "      <td>A New Power Is Rising.</td>\n",
              "      <td>Frodo and Sam are trekking to Mordor to destro...</td>\n",
              "      <td>179</td>\n",
              "      <td>Adventure|Fantasy|Action</td>\n",
              "      <td>WingNut Films|New Line Cinema|The Saul Zaentz ...</td>\n",
              "      <td>12/18/2002</td>\n",
              "      <td>5114</td>\n",
              "      <td>7.8</td>\n",
              "      <td>2002</td>\n",
              "      <td>847287400</td>\n",
              "      <td>2002</td>\n",
              "      <td>{'Adventure': 1, 'Fantasy': 1, 'Action': 1}</td>\n",
              "      <td>{'Peter Jackson': 1}</td>\n",
              "      <td>[Elijah Wood, Ian McKellen, Viggo Mortensen, L...</td>\n",
              "      <td>448300.211640</td>\n",
              "      <td>[WingNut Films, New Line Cinema, The Saul Zaen...</td>\n",
              "      <td>12</td>\n",
              "      <td>37</td>\n",
              "      <td>8</td>\n",
              "      <td>[The, Lord, of, the, Rings:, The, Two, Towers]</td>\n",
              "    </tr>\n",
              "    <tr>\n",
              "      <th>873</th>\n",
              "      <td>tt0253474</td>\n",
              "      <td>2.364204</td>\n",
              "      <td>35000000</td>\n",
              "      <td>120072577</td>\n",
              "      <td>The Pianist</td>\n",
              "      <td>Adrien Brody|Thomas Kretschmann|Frank Finlay|M...</td>\n",
              "      <td>Roman Polanski</td>\n",
              "      <td>Music was his passion. Survival was his master...</td>\n",
              "      <td>The Pianist is a film adapted from the biograp...</td>\n",
              "      <td>150</td>\n",
              "      <td>Drama|War</td>\n",
              "      <td>Bac Films|Canal+Polska|Heritage Films|Studio B...</td>\n",
              "      <td>9/24/2002</td>\n",
              "      <td>938</td>\n",
              "      <td>7.9</td>\n",
              "      <td>2002</td>\n",
              "      <td>85072577</td>\n",
              "      <td>2002</td>\n",
              "      <td>{'Drama': 1, 'War': 1}</td>\n",
              "      <td>{'Roman Polanski': 1}</td>\n",
              "      <td>[Adrien Brody, Thomas Kretschmann, Frank Finla...</td>\n",
              "      <td>45011.945503</td>\n",
              "      <td>[Bac Films, Canal+Polska, Heritage Films, Stud...</td>\n",
              "      <td>9</td>\n",
              "      <td>11</td>\n",
              "      <td>2</td>\n",
              "      <td>[The, Pianist]</td>\n",
              "    </tr>\n",
              "    <tr>\n",
              "      <th>1082</th>\n",
              "      <td>tt0167260</td>\n",
              "      <td>7.122455</td>\n",
              "      <td>94000000</td>\n",
              "      <td>1118888979</td>\n",
              "      <td>The Lord of the Rings: The Return of the King</td>\n",
              "      <td>Elijah Wood|Ian McKellen|Viggo Mortensen|Liv T...</td>\n",
              "      <td>Peter Jackson</td>\n",
              "      <td>The eye of the enemy is moving.</td>\n",
              "      <td>Aragorn is revealed as the heir to the ancient...</td>\n",
              "      <td>201</td>\n",
              "      <td>Adventure|Fantasy|Action</td>\n",
              "      <td>WingNut Films|New Line Cinema</td>\n",
              "      <td>12/1/2003</td>\n",
              "      <td>5636</td>\n",
              "      <td>7.9</td>\n",
              "      <td>2003</td>\n",
              "      <td>1024888979</td>\n",
              "      <td>2003</td>\n",
              "      <td>{'Adventure': 1, 'Fantasy': 1, 'Action': 1}</td>\n",
              "      <td>{'Peter Jackson': 1}</td>\n",
              "      <td>[Elijah Wood, Ian McKellen, Viggo Mortensen, L...</td>\n",
              "      <td>542269.301058</td>\n",
              "      <td>[WingNut Films, New Line Cinema]</td>\n",
              "      <td>12</td>\n",
              "      <td>45</td>\n",
              "      <td>10</td>\n",
              "      <td>[The, Lord, of, the, Rings:, The, Return, of, ...</td>\n",
              "    </tr>\n",
              "    <tr>\n",
              "      <th>1184</th>\n",
              "      <td>tt0993846</td>\n",
              "      <td>4.877927</td>\n",
              "      <td>100000000</td>\n",
              "      <td>392000694</td>\n",
              "      <td>The Wolf of Wall Street</td>\n",
              "      <td>Leonardo DiCaprio|Jonah Hill|Margot Robbie|Kyl...</td>\n",
              "      <td>Martin Scorsese</td>\n",
              "      <td>EARN. SPEND. PARTY.</td>\n",
              "      <td>A New York stockbroker refuses to cooperate in...</td>\n",
              "      <td>180</td>\n",
              "      <td>Crime|Drama|Comedy</td>\n",
              "      <td>Paramount Pictures|Appian Way|EMJAG Production...</td>\n",
              "      <td>12/25/2013</td>\n",
              "      <td>4027</td>\n",
              "      <td>7.9</td>\n",
              "      <td>2013</td>\n",
              "      <td>292000694</td>\n",
              "      <td>2013</td>\n",
              "      <td>{'Crime': 1, 'Drama': 1, 'Comedy': 1}</td>\n",
              "      <td>{'Martin Scorsese': 1}</td>\n",
              "      <td>[Leonardo DiCaprio, Jonah Hill, Margot Robbie,...</td>\n",
              "      <td>154497.721693</td>\n",
              "      <td>[Paramount Pictures, Appian Way, EMJAG Product...</td>\n",
              "      <td>12</td>\n",
              "      <td>23</td>\n",
              "      <td>5</td>\n",
              "      <td>[The, Wolf, of, Wall, Street]</td>\n",
              "    </tr>\n",
              "    <tr>\n",
              "      <th>1189</th>\n",
              "      <td>tt1798709</td>\n",
              "      <td>3.951582</td>\n",
              "      <td>23000000</td>\n",
              "      <td>47351251</td>\n",
              "      <td>Her</td>\n",
              "      <td>Joaquin Phoenix|Scarlett Johansson|Rooney Mara...</td>\n",
              "      <td>Spike Jonze</td>\n",
              "      <td>A Spike Jonze Love Story</td>\n",
              "      <td>In the not so distant future, Theodore, a lone...</td>\n",
              "      <td>126</td>\n",
              "      <td>Romance|Science Fiction|Drama</td>\n",
              "      <td>Annapurna Pictures</td>\n",
              "      <td>12/18/2013</td>\n",
              "      <td>2422</td>\n",
              "      <td>7.8</td>\n",
              "      <td>2013</td>\n",
              "      <td>24351251</td>\n",
              "      <td>2013</td>\n",
              "      <td>{'Romance': 1, 'Science Fiction': 1, 'Drama': 1}</td>\n",
              "      <td>{'Spike Jonze': 1}</td>\n",
              "      <td>[Joaquin Phoenix, Scarlett Johansson, Rooney M...</td>\n",
              "      <td>12884.259788</td>\n",
              "      <td>[Annapurna Pictures]</td>\n",
              "      <td>12</td>\n",
              "      <td>3</td>\n",
              "      <td>1</td>\n",
              "      <td>[Her]</td>\n",
              "    </tr>\n",
              "    <tr>\n",
              "      <th>1192</th>\n",
              "      <td>tt2024544</td>\n",
              "      <td>3.625529</td>\n",
              "      <td>20000000</td>\n",
              "      <td>187000000</td>\n",
              "      <td>12 Years a Slave</td>\n",
              "      <td>Chiwetel Ejiofor|Michael Fassbender|Lupita Nyo...</td>\n",
              "      <td>Steve McQueen</td>\n",
              "      <td>The extraordinary true story of Solomon Northup</td>\n",
              "      <td>In the pre-Civil War United States, Solomon No...</td>\n",
              "      <td>134</td>\n",
              "      <td>Drama|History</td>\n",
              "      <td>Plan B Entertainment|Regency Enterprises|River...</td>\n",
              "      <td>10/18/2013</td>\n",
              "      <td>2241</td>\n",
              "      <td>7.9</td>\n",
              "      <td>2013</td>\n",
              "      <td>167000000</td>\n",
              "      <td>2013</td>\n",
              "      <td>{'Drama': 1, 'History': 1}</td>\n",
              "      <td>{'Steve McQueen': 1}</td>\n",
              "      <td>[Chiwetel Ejiofor, Michael Fassbender, Lupita ...</td>\n",
              "      <td>88359.788360</td>\n",
              "      <td>[Plan B Entertainment, Regency Enterprises, Ri...</td>\n",
              "      <td>10</td>\n",
              "      <td>16</td>\n",
              "      <td>4</td>\n",
              "      <td>[12, Years, a, Slave]</td>\n",
              "    </tr>\n",
              "    <tr>\n",
              "      <th>1206</th>\n",
              "      <td>tt1392214</td>\n",
              "      <td>2.032167</td>\n",
              "      <td>46000000</td>\n",
              "      <td>122126687</td>\n",
              "      <td>Prisoners</td>\n",
              "      <td>Hugh Jackman|Jake Gyllenhaal|Paul Dano|Maria B...</td>\n",
              "      <td>Denis Villeneuve</td>\n",
              "      <td>Every moment matters.</td>\n",
              "      <td>When Keller Dover's daughter and her friend go...</td>\n",
              "      <td>153</td>\n",
              "      <td>Drama|Thriller|Crime</td>\n",
              "      <td>Alcon Entertainment|Madhouse Entertainment|8:3...</td>\n",
              "      <td>9/18/2013</td>\n",
              "      <td>1826</td>\n",
              "      <td>7.8</td>\n",
              "      <td>2013</td>\n",
              "      <td>76126687</td>\n",
              "      <td>2013</td>\n",
              "      <td>{'Drama': 1, 'Thriller': 1, 'Crime': 1}</td>\n",
              "      <td>{'Denis Villeneuve': 1}</td>\n",
              "      <td>[Hugh Jackman, Jake Gyllenhaal, Paul Dano, Mar...</td>\n",
              "      <td>40278.670370</td>\n",
              "      <td>[Alcon Entertainment, Madhouse Entertainment, ...</td>\n",
              "      <td>9</td>\n",
              "      <td>9</td>\n",
              "      <td>1</td>\n",
              "      <td>[Prisoners]</td>\n",
              "    </tr>\n",
              "    <tr>\n",
              "      <th>1214</th>\n",
              "      <td>tt0790636</td>\n",
              "      <td>1.765514</td>\n",
              "      <td>5000000</td>\n",
              "      <td>55198285</td>\n",
              "      <td>Dallas Buyers Club</td>\n",
              "      <td>Matthew McConaughey|Jennifer Garner|Jared Leto...</td>\n",
              "      <td>Jean-Marc VallÃ©e</td>\n",
              "      <td>Sometimes it takes a hustler to change the world</td>\n",
              "      <td>Loosely based on the true-life tale of Ron Woo...</td>\n",
              "      <td>117</td>\n",
              "      <td>Drama|History</td>\n",
              "      <td>Universal Studios|Universal Pictures|Voltage P...</td>\n",
              "      <td>9/7/2013</td>\n",
              "      <td>1831</td>\n",
              "      <td>7.8</td>\n",
              "      <td>2013</td>\n",
              "      <td>50198285</td>\n",
              "      <td>2013</td>\n",
              "      <td>{'Drama': 1, 'History': 1}</td>\n",
              "      <td>{'Jean-Marc VallÃ©e': 1}</td>\n",
              "      <td>[Matthew McConaughey, Jennifer Garner, Jared L...</td>\n",
              "      <td>26559.939153</td>\n",
              "      <td>[Universal Studios, Universal Pictures, Voltag...</td>\n",
              "      <td>9</td>\n",
              "      <td>18</td>\n",
              "      <td>3</td>\n",
              "      <td>[Dallas, Buyers, Club]</td>\n",
              "    </tr>\n",
              "    <tr>\n",
              "      <th>1445</th>\n",
              "      <td>tt0482571</td>\n",
              "      <td>2.582095</td>\n",
              "      <td>40000000</td>\n",
              "      <td>109676311</td>\n",
              "      <td>The Prestige</td>\n",
              "      <td>Hugh Jackman|Christian Bale|Michael Caine|Scar...</td>\n",
              "      <td>Christopher Nolan</td>\n",
              "      <td>Are You Watching Closely?</td>\n",
              "      <td>A mysterious story of two magicians whose inte...</td>\n",
              "      <td>130</td>\n",
              "      <td>Drama|Mystery|Thriller</td>\n",
              "      <td>Touchstone Pictures|Syncopy</td>\n",
              "      <td>10/19/2006</td>\n",
              "      <td>2519</td>\n",
              "      <td>7.8</td>\n",
              "      <td>2006</td>\n",
              "      <td>69676311</td>\n",
              "      <td>2006</td>\n",
              "      <td>{'Drama': 1, 'Mystery': 1, 'Thriller': 1}</td>\n",
              "      <td>{'Christopher Nolan': 1}</td>\n",
              "      <td>[Hugh Jackman, Christian Bale, Michael Caine, ...</td>\n",
              "      <td>36865.773016</td>\n",
              "      <td>[Touchstone Pictures, Syncopy]</td>\n",
              "      <td>10</td>\n",
              "      <td>12</td>\n",
              "      <td>2</td>\n",
              "      <td>[The, Prestige]</td>\n",
              "    </tr>\n",
              "    <tr>\n",
              "      <th>1564</th>\n",
              "      <td>tt0338013</td>\n",
              "      <td>3.863377</td>\n",
              "      <td>20000000</td>\n",
              "      <td>72258126</td>\n",
              "      <td>Eternal Sunshine of the Spotless Mind</td>\n",
              "      <td>Jim Carrey|Kate Winslet|Elijah Wood|Mark Ruffa...</td>\n",
              "      <td>Michel Gondry</td>\n",
              "      <td>I already forget how I used to feel about you.</td>\n",
              "      <td>Joel Barish, heartbroken that his girlfriend u...</td>\n",
              "      <td>108</td>\n",
              "      <td>Science Fiction|Drama|Romance</td>\n",
              "      <td>Anonymous Content|This Is That Productions|Foc...</td>\n",
              "      <td>3/19/2004</td>\n",
              "      <td>2012</td>\n",
              "      <td>7.8</td>\n",
              "      <td>2004</td>\n",
              "      <td>52258126</td>\n",
              "      <td>2004</td>\n",
              "      <td>{'Science Fiction': 1, 'Drama': 1, 'Romance': 1}</td>\n",
              "      <td>{'Michel Gondry': 1}</td>\n",
              "      <td>[Jim Carrey, Kate Winslet, Elijah Wood, Mark R...</td>\n",
              "      <td>27649.802116</td>\n",
              "      <td>[Anonymous Content, This Is That Productions, ...</td>\n",
              "      <td>3</td>\n",
              "      <td>37</td>\n",
              "      <td>6</td>\n",
              "      <td>[Eternal, Sunshine, of, the, Spotless, Mind]</td>\n",
              "    </tr>\n",
              "    <tr>\n",
              "      <th>1689</th>\n",
              "      <td>tt0469494</td>\n",
              "      <td>2.042620</td>\n",
              "      <td>25000000</td>\n",
              "      <td>76181545</td>\n",
              "      <td>There Will Be Blood</td>\n",
              "      <td>Daniel Day-Lewis|Paul Dano|Dillon Freasier|Cia...</td>\n",
              "      <td>Paul Thomas Anderson</td>\n",
              "      <td>There Will Be Greed. There Will Be Vengeance.</td>\n",
              "      <td>When ruthless oil prospector, Daniel Plainview...</td>\n",
              "      <td>158</td>\n",
              "      <td>Drama</td>\n",
              "      <td>Miramax Films|Ghoulardi Film Company|Paramount...</td>\n",
              "      <td>12/28/2007</td>\n",
              "      <td>830</td>\n",
              "      <td>7.8</td>\n",
              "      <td>2007</td>\n",
              "      <td>51181545</td>\n",
              "      <td>2007</td>\n",
              "      <td>{'Drama': 1}</td>\n",
              "      <td>{'Paul Thomas Anderson': 1}</td>\n",
              "      <td>[Daniel Day-Lewis, Paul Dano, Dillon Freasier,...</td>\n",
              "      <td>27080.182540</td>\n",
              "      <td>[Miramax Films, Ghoulardi Film Company, Paramo...</td>\n",
              "      <td>12</td>\n",
              "      <td>19</td>\n",
              "      <td>4</td>\n",
              "      <td>[There, Will, Be, Blood]</td>\n",
              "    </tr>\n",
              "    <tr>\n",
              "      <th>1801</th>\n",
              "      <td>tt0209144</td>\n",
              "      <td>3.095625</td>\n",
              "      <td>9000000</td>\n",
              "      <td>39723096</td>\n",
              "      <td>Memento</td>\n",
              "      <td>Guy Pearce|Carrie-Anne Moss|Joe Pantoliano|Mar...</td>\n",
              "      <td>Christopher Nolan</td>\n",
              "      <td>Some memories are best forgotten.</td>\n",
              "      <td>Suffering short-term memory loss after a head ...</td>\n",
              "      <td>113</td>\n",
              "      <td>Mystery|Thriller</td>\n",
              "      <td>Summit Entertainment|Newmarket Capital Group|T...</td>\n",
              "      <td>10/11/2000</td>\n",
              "      <td>2144</td>\n",
              "      <td>7.9</td>\n",
              "      <td>2000</td>\n",
              "      <td>30723096</td>\n",
              "      <td>2000</td>\n",
              "      <td>{'Mystery': 1, 'Thriller': 1}</td>\n",
              "      <td>{'Christopher Nolan': 1}</td>\n",
              "      <td>[Guy Pearce, Carrie-Anne Moss, Joe Pantoliano,...</td>\n",
              "      <td>16255.606349</td>\n",
              "      <td>[Summit Entertainment, Newmarket Capital Group...</td>\n",
              "      <td>10</td>\n",
              "      <td>7</td>\n",
              "      <td>1</td>\n",
              "      <td>[Memento]</td>\n",
              "    </tr>\n",
              "  </tbody>\n",
              "</table>\n",
              "</div>"
            ],
            "text/plain": [
              "        imdb_id  ...                                         title_list\n",
              "9     tt2096673  ...                                      [Inside, Out]\n",
              "28    tt1895587  ...                                        [Spotlight]\n",
              "34    tt3170832  ...                                             [Room]\n",
              "118   tt0816692  ...                                     [Interstellar]\n",
              "119   tt2015381  ...                       [Guardians, of, the, Galaxy]\n",
              "124   tt2245084  ...                                     [Big, Hero, 6]\n",
              "125   tt2084970  ...                             [The, Imitation, Game]\n",
              "128   tt2267998  ...                                       [Gone, Girl]\n",
              "138   tt2278388  ...                      [The, Grand, Budapest, Hotel]\n",
              "155   tt2980516  ...                      [The, Theory, of, Everything]\n",
              "177   tt2582846  ...                       [The, Fault, in, Our, Stars]\n",
              "283   tt0485947  ...                                      [Mr., Nobody]\n",
              "316   tt1187043  ...                                        [3, Idiots]\n",
              "370   tt1375666  ...                                        [Inception]\n",
              "497   tt0120737  ...  [The, Lord, of, the, Rings:, The, Fellowship, ...\n",
              "600   tt0468569  ...                                [The, Dark, Knight]\n",
              "864   tt0167261  ...     [The, Lord, of, the, Rings:, The, Two, Towers]\n",
              "873   tt0253474  ...                                     [The, Pianist]\n",
              "1082  tt0167260  ...  [The, Lord, of, the, Rings:, The, Return, of, ...\n",
              "1184  tt0993846  ...                      [The, Wolf, of, Wall, Street]\n",
              "1189  tt1798709  ...                                              [Her]\n",
              "1192  tt2024544  ...                              [12, Years, a, Slave]\n",
              "1206  tt1392214  ...                                        [Prisoners]\n",
              "1214  tt0790636  ...                             [Dallas, Buyers, Club]\n",
              "1445  tt0482571  ...                                    [The, Prestige]\n",
              "1564  tt0338013  ...       [Eternal, Sunshine, of, the, Spotless, Mind]\n",
              "1689  tt0469494  ...                           [There, Will, Be, Blood]\n",
              "1801  tt0209144  ...                                          [Memento]\n",
              "\n",
              "[28 rows x 27 columns]"
            ]
          },
          "metadata": {
            "tags": []
          },
          "execution_count": 61
        }
      ]
    },
    {
      "cell_type": "code",
      "metadata": {
        "trusted": true,
        "id": "ZIUH5Wzva1t0",
        "colab_type": "code",
        "colab": {}
      },
      "source": [
        "answer_ls.append(1)"
      ],
      "execution_count": 0,
      "outputs": []
    },
    {
      "cell_type": "markdown",
      "metadata": {
        "id": "ucUml8Cda1t2",
        "colab_type": "text"
      },
      "source": [
        "# 35. Какие актеры чаще всего снимаются в одном фильме вместе\n",
        "Варианты ответа:\n",
        "1. Johnny Depp & Helena Bonham Carter\n",
        "2. Hugh Jackman & Ian McKellen\n",
        "3. Vin Diesel & Paul Walker\n",
        "4. Adam Sandler & Kevin James\n",
        "5. Daniel Radcliffe & Rupert Grint"
      ]
    },
    {
      "cell_type": "code",
      "metadata": {
        "id": "xgoT1up2nE2x",
        "colab_type": "code",
        "colab": {}
      },
      "source": [
        ""
      ],
      "execution_count": 0,
      "outputs": []
    },
    {
      "cell_type": "code",
      "metadata": {
        "id": "CFX2uH6Yjo_H",
        "colab_type": "code",
        "outputId": "94d19979-3663-4e0f-9f6b-2b0b15b569d0",
        "colab": {
          "base_uri": "https://localhost:8080/",
          "height": 35
        }
      },
      "source": [
        "n1 = df[df.cast.apply(lambda x: 'Johnny Depp' in x)]\n",
        "n11 = n1[n1.cast.apply(lambda x: 'Helena Bonham Carter' in x)].count()[0]\n",
        "n2 = df[df.cast.apply(lambda x: 'Hugh Jackman' in x)]\n",
        "n21 = n2[n2.cast.apply(lambda x: 'Ian McKellen' in x)].count()[0]\n",
        "n3 = df[df.cast.apply(lambda x: 'Vin Diesel' in x)]\n",
        "n31 = n3[n3.cast.apply(lambda x: 'Ian McKellen' in x)].count()[0]\n",
        "n4 = df[df.cast.apply(lambda x: 'Adam Sandler' in x)]\n",
        "n41 = n4[n4.cast.apply(lambda x: 'Kevin James' in x)].count()[0]\n",
        "n5 = df[df.cast.apply(lambda x: 'Daniel Radcliffe' in x)]\n",
        "n51 = n5[n5.cast.apply(lambda x: 'Rupert Grint' in x)].count()[0]\n",
        "\n",
        "a = [n11, n21, n31, n41, n51]\n",
        "a\n"
      ],
      "execution_count": 0,
      "outputs": [
        {
          "output_type": "execute_result",
          "data": {
            "text/plain": [
              "[6, 5, 0, 5, 8]"
            ]
          },
          "metadata": {
            "tags": []
          },
          "execution_count": 77
        }
      ]
    },
    {
      "cell_type": "code",
      "metadata": {
        "trusted": true,
        "id": "uoBk6qk0a1t3",
        "colab_type": "code",
        "colab": {}
      },
      "source": [
        "answer_ls.append(5)"
      ],
      "execution_count": 0,
      "outputs": []
    },
    {
      "cell_type": "markdown",
      "metadata": {
        "id": "uazbTenza1t5",
        "colab_type": "text"
      },
      "source": [
        "# 36. У какого из режиссеров выше вероятность выпустить фильм в прибыли? (5 баллов)101\n",
        "Варианты ответа:\n",
        "1. Quentin Tarantino\n",
        "2. Steven Soderbergh\n",
        "3. Robert Rodriguez\n",
        "4. Christopher Nolan\n",
        "5. Clint Eastwood"
      ]
    },
    {
      "cell_type": "code",
      "metadata": {
        "id": "t2AnzMdIJKtW",
        "colab_type": "code",
        "outputId": "bb17af50-9df9-4eba-ab5a-3b3a1b94ecb5",
        "colab": {
          "base_uri": "https://localhost:8080/",
          "height": 104
        }
      },
      "source": [
        "director_best_list = ['Quentin Tarantino',\n",
        "'Steven Soderbergh',\n",
        "'Robert Rodriguez',\n",
        "'Christopher Nolan',\n",
        "'Clint Eastwood']\n",
        "\n",
        "df['director_counter'] = df.director.apply(lambda x : Counter(x.split('|')))\n",
        "\n",
        "def profit_film_perc(name):\n",
        "    ratio = df['director_counter'].loc[(df.loss>0) & (df.director.apply(lambda x: name in x))].sum()[name]/df['director_counter'].loc[(df.director.apply(lambda x: name in x))].sum()[name]\n",
        "    return ratio\n",
        "\n",
        "for name in director_best_list:\n",
        "    print('У {} рейтинг такой: {:.2%}'.format(name, profit_film_perc(name)))"
      ],
      "execution_count": 0,
      "outputs": [
        {
          "output_type": "stream",
          "text": [
            "У Quentin Tarantino рейтинг такой: 85.71%\n",
            "У Steven Soderbergh рейтинг такой: 76.92%\n",
            "У Robert Rodriguez рейтинг такой: 72.73%\n",
            "У Christopher Nolan рейтинг такой: 100.00%\n",
            "У Clint Eastwood рейтинг такой: 83.33%\n"
          ],
          "name": "stdout"
        }
      ]
    },
    {
      "cell_type": "code",
      "metadata": {
        "trusted": true,
        "id": "CLLcBQSVa1t5",
        "colab_type": "code",
        "colab": {}
      },
      "source": [
        "answer_ls.append(4)"
      ],
      "execution_count": 0,
      "outputs": []
    },
    {
      "cell_type": "markdown",
      "metadata": {
        "id": "aUVzU9YCa1t7",
        "colab_type": "text"
      },
      "source": [
        "# Submission"
      ]
    },
    {
      "cell_type": "code",
      "metadata": {
        "trusted": true,
        "id": "P6plg3qla1t7",
        "colab_type": "code",
        "outputId": "02d6b6a7-2303-497a-e034-6475e684d097",
        "colab": {
          "base_uri": "https://localhost:8080/",
          "height": 35
        }
      },
      "source": [
        "len(answer_ls)"
      ],
      "execution_count": 0,
      "outputs": [
        {
          "output_type": "execute_result",
          "data": {
            "text/plain": [
              "36"
            ]
          },
          "metadata": {
            "tags": []
          },
          "execution_count": 135
        }
      ]
    },
    {
      "cell_type": "code",
      "metadata": {
        "id": "U0A3QjlYcu0a",
        "colab_type": "code",
        "outputId": "456f41db-6885-4d15-d99a-d58e095e4a71",
        "colab": {
          "base_uri": "https://localhost:8080/",
          "height": 641
        }
      },
      "source": [
        "answer_ls"
      ],
      "execution_count": 0,
      "outputs": [
        {
          "output_type": "execute_result",
          "data": {
            "text/plain": [
              "[4,\n",
              " 2,\n",
              " 3,\n",
              " 2,\n",
              " 1,\n",
              " 5,\n",
              " 2,\n",
              " 1,\n",
              " 4,\n",
              " 5,\n",
              " 3,\n",
              " 1,\n",
              " 3,\n",
              " 4,\n",
              " 5,\n",
              " 1,\n",
              " 2,\n",
              " 3,\n",
              " 2,\n",
              " 1,\n",
              " 4,\n",
              " 2,\n",
              " 3,\n",
              " 1,\n",
              " 5,\n",
              " 5,\n",
              " 4,\n",
              " 2,\n",
              " 1,\n",
              " 2,\n",
              " 5,\n",
              " 5,\n",
              " 3,\n",
              " 1,\n",
              " 5,\n",
              " 2]"
            ]
          },
          "metadata": {
            "tags": []
          },
          "execution_count": 136
        }
      ]
    },
    {
      "cell_type": "code",
      "metadata": {
        "trusted": true,
        "id": "kdpEHZHUa1t9",
        "colab_type": "code",
        "outputId": "8c8ae997-0ecc-4c7b-d645-547d7d95b61f",
        "colab": {
          "base_uri": "https://localhost:8080/",
          "height": 509
        }
      },
      "source": [
        "import pandas as pd\n",
        "pd.DataFrame({'Id':range(1,len(answer_ls)+1), 'Answer':answer_ls}, columns=['Id', 'Answer'])"
      ],
      "execution_count": 0,
      "outputs": [
        {
          "output_type": "execute_result",
          "data": {
            "text/html": [
              "<div>\n",
              "<style scoped>\n",
              "    .dataframe tbody tr th:only-of-type {\n",
              "        vertical-align: middle;\n",
              "    }\n",
              "\n",
              "    .dataframe tbody tr th {\n",
              "        vertical-align: top;\n",
              "    }\n",
              "\n",
              "    .dataframe thead th {\n",
              "        text-align: right;\n",
              "    }\n",
              "</style>\n",
              "<table border=\"1\" class=\"dataframe\">\n",
              "  <thead>\n",
              "    <tr style=\"text-align: right;\">\n",
              "      <th></th>\n",
              "      <th>Id</th>\n",
              "      <th>Answer</th>\n",
              "    </tr>\n",
              "  </thead>\n",
              "  <tbody>\n",
              "    <tr>\n",
              "      <th>0</th>\n",
              "      <td>1</td>\n",
              "      <td>4</td>\n",
              "    </tr>\n",
              "    <tr>\n",
              "      <th>1</th>\n",
              "      <td>2</td>\n",
              "      <td>2</td>\n",
              "    </tr>\n",
              "    <tr>\n",
              "      <th>2</th>\n",
              "      <td>3</td>\n",
              "      <td>3</td>\n",
              "    </tr>\n",
              "    <tr>\n",
              "      <th>3</th>\n",
              "      <td>4</td>\n",
              "      <td>2</td>\n",
              "    </tr>\n",
              "    <tr>\n",
              "      <th>4</th>\n",
              "      <td>5</td>\n",
              "      <td>1</td>\n",
              "    </tr>\n",
              "    <tr>\n",
              "      <th>5</th>\n",
              "      <td>6</td>\n",
              "      <td>5</td>\n",
              "    </tr>\n",
              "    <tr>\n",
              "      <th>6</th>\n",
              "      <td>7</td>\n",
              "      <td>2</td>\n",
              "    </tr>\n",
              "    <tr>\n",
              "      <th>7</th>\n",
              "      <td>8</td>\n",
              "      <td>1</td>\n",
              "    </tr>\n",
              "    <tr>\n",
              "      <th>8</th>\n",
              "      <td>9</td>\n",
              "      <td>4</td>\n",
              "    </tr>\n",
              "    <tr>\n",
              "      <th>9</th>\n",
              "      <td>10</td>\n",
              "      <td>5</td>\n",
              "    </tr>\n",
              "    <tr>\n",
              "      <th>10</th>\n",
              "      <td>11</td>\n",
              "      <td>4</td>\n",
              "    </tr>\n",
              "    <tr>\n",
              "      <th>11</th>\n",
              "      <td>12</td>\n",
              "      <td>2</td>\n",
              "    </tr>\n",
              "    <tr>\n",
              "      <th>12</th>\n",
              "      <td>13</td>\n",
              "      <td>1</td>\n",
              "    </tr>\n",
              "    <tr>\n",
              "      <th>13</th>\n",
              "      <td>14</td>\n",
              "      <td>4</td>\n",
              "    </tr>\n",
              "    <tr>\n",
              "      <th>14</th>\n",
              "      <td>15</td>\n",
              "      <td>5</td>\n",
              "    </tr>\n",
              "  </tbody>\n",
              "</table>\n",
              "</div>"
            ],
            "text/plain": [
              "    Id  Answer\n",
              "0    1       4\n",
              "1    2       2\n",
              "2    3       3\n",
              "3    4       2\n",
              "4    5       1\n",
              "5    6       5\n",
              "6    7       2\n",
              "7    8       1\n",
              "8    9       4\n",
              "9   10       5\n",
              "10  11       4\n",
              "11  12       2\n",
              "12  13       1\n",
              "13  14       4\n",
              "14  15       5"
            ]
          },
          "metadata": {
            "tags": []
          },
          "execution_count": 19
        }
      ]
    },
    {
      "cell_type": "code",
      "metadata": {
        "trusted": false,
        "id": "vdWbiRBXa1t-",
        "colab_type": "code",
        "colab": {}
      },
      "source": [
        ""
      ],
      "execution_count": 0,
      "outputs": []
    }
  ]
}