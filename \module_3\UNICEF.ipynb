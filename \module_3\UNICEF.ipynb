{
  "nbformat": 4,
  "nbformat_minor": 0,
  "metadata": {
    "colab": {
      "name": "UNICEF.ipynb",
      "provenance": [],
      "authorship_tag": "ABX9TyMCbWCLrdTtbk5+S6IZBNKX",
      "include_colab_link": true
    },
    "kernelspec": {
      "name": "python3",
      "display_name": "Python 3"
    }
  },
  "cells": [
    {
      "cell_type": "markdown",
      "metadata": {
        "id": "view-in-github",
        "colab_type": "text"
      },
      "source": [
        "<a href=\"https://colab.research.google.com/github/DoLIF/skillfactory_rds/blob/master/%5Cmodule_3%5CUNICEF.ipynb\" target=\"_parent\"><img src=\"https://colab.research.google.com/assets/colab-badge.svg\" alt=\"Open In Colab\"/></a>"
      ]
    },
    {
      "cell_type": "code",
      "metadata": {
        "id": "9ZzhysGVr2eZ",
        "colab_type": "code",
        "colab": {
          "resources": {
            "http://localhost:8080/nbextensions/google.colab/files.js": {
              "data": "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",
              "ok": true,
              "headers": [
                [
                  "content-type",
                  "application/javascript"
                ]
              ],
              "status": 200,
              "status_text": ""
            }
          },
          "base_uri": "https://localhost:8080/",
          "height": 73
        },
        "outputId": "8c5f82ac-a393-44a4-c686-14246aed0c1d"
      },
      "source": [
        "from google.colab import files\n",
        "uploaded = files.upload()"
      ],
      "execution_count": null,
      "outputs": [
        {
          "output_type": "display_data",
          "data": {
            "text/html": [
              "\n",
              "     <input type=\"file\" id=\"files-e9ee39c3-eaa0-4670-8c46-426c05790194\" name=\"files[]\" multiple disabled\n",
              "        style=\"border:none\" />\n",
              "     <output id=\"result-e9ee39c3-eaa0-4670-8c46-426c05790194\">\n",
              "      Upload widget is only available when the cell has been executed in the\n",
              "      current browser session. Please rerun this cell to enable.\n",
              "      </output>\n",
              "      <script src=\"/nbextensions/google.colab/files.js\"></script> "
            ],
            "text/plain": [
              "<IPython.core.display.HTML object>"
            ]
          },
          "metadata": {
            "tags": []
          }
        },
        {
          "output_type": "stream",
          "text": [
            "Saving stud_math.xls to stud_math.xls\n"
          ],
          "name": "stdout"
        }
      ]
    },
    {
      "cell_type": "code",
      "metadata": {
        "id": "f6DDUszxsAFd",
        "colab_type": "code",
        "colab": {}
      },
      "source": [
        "import io\n",
        "import pandas as pd\n",
        "\n",
        "df = pd.read_csv(io.BytesIO(uploaded['stud_math.xls']))"
      ],
      "execution_count": null,
      "outputs": []
    },
    {
      "cell_type": "code",
      "metadata": {
        "id": "tyaxGlRcvBeB",
        "colab_type": "code",
        "colab": {}
      },
      "source": [
        "import pandas as pd\n",
        "import matplotlib.pyplot as plt\n",
        "import seaborn as sns\n",
        "from itertools import combinations\n",
        "from scipy.stats import ttest_ind\n",
        "\n",
        "pd.set_option('display.max_rows', 50) # показывать больше строк\n",
        "pd.set_option('display.max_columns', 50) # показывать больше колонок"
      ],
      "execution_count": null,
      "outputs": []
    },
    {
      "cell_type": "code",
      "metadata": {
        "id": "LaWaV3GLsQxe",
        "colab_type": "code",
        "colab": {
          "base_uri": "https://localhost:8080/",
          "height": 659
        },
        "outputId": "c7e37139-8ea2-4244-cd37-973919dd16ac"
      },
      "source": [
        "df.info()"
      ],
      "execution_count": null,
      "outputs": [
        {
          "output_type": "stream",
          "text": [
            "<class 'pandas.core.frame.DataFrame'>\n",
            "RangeIndex: 395 entries, 0 to 394\n",
            "Data columns (total 30 columns):\n",
            " #   Column               Non-Null Count  Dtype  \n",
            "---  ------               --------------  -----  \n",
            " 0   school               395 non-null    object \n",
            " 1   sex                  395 non-null    object \n",
            " 2   age                  395 non-null    int64  \n",
            " 3   address              378 non-null    object \n",
            " 4   famsize              368 non-null    object \n",
            " 5   Pstatus              350 non-null    object \n",
            " 6   Medu                 392 non-null    float64\n",
            " 7   Fedu                 371 non-null    float64\n",
            " 8   Mjob                 376 non-null    object \n",
            " 9   Fjob                 359 non-null    object \n",
            " 10  reason               378 non-null    object \n",
            " 11  guardian             364 non-null    object \n",
            " 12  traveltime           367 non-null    float64\n",
            " 13  studytime            388 non-null    float64\n",
            " 14  failures             373 non-null    float64\n",
            " 15  schoolsup            386 non-null    object \n",
            " 16  famsup               356 non-null    object \n",
            " 17  paid                 355 non-null    object \n",
            " 18  activities           381 non-null    object \n",
            " 19  nursery              379 non-null    object \n",
            " 20  studytime, granular  388 non-null    float64\n",
            " 21  higher               375 non-null    object \n",
            " 22  internet             361 non-null    object \n",
            " 23  romantic             364 non-null    object \n",
            " 24  famrel               368 non-null    float64\n",
            " 25  freetime             384 non-null    float64\n",
            " 26  goout                387 non-null    float64\n",
            " 27  health               380 non-null    float64\n",
            " 28  absences             383 non-null    float64\n",
            " 29  score                389 non-null    float64\n",
            "dtypes: float64(12), int64(1), object(17)\n",
            "memory usage: 92.7+ KB\n"
          ],
          "name": "stdout"
        }
      ]
    },
    {
      "cell_type": "markdown",
      "metadata": {
        "id": "7xD8gsmP3AXd",
        "colab_type": "text"
      },
      "source": [
        "Проведите первичную обработку данных. Так как данных много, стоит написать функции, которые можно применять к столбцам определённого типа."
      ]
    },
    {
      "cell_type": "code",
      "metadata": {
        "id": "QKhHfkaPve3L",
        "colab_type": "code",
        "colab": {}
      },
      "source": [
        "def for_types (frame):\n",
        "  for i in frame.columns:\n",
        "    if df.loc[:, i].dtype == 'O':\n",
        "      print(\"В колонке {} уникальных значений: {} \\nЗначений, встретившихся в столбце более 30 раз: {}\".format(i,df.loc[:,i].nunique(),(df.loc[:,i].value_counts()>30).sum()))\n",
        "    elif df.loc[:, i].dtype == 'int64' or df.loc[:, i].dtype == 'float64':\n",
        "      median = df.loc[:,i].median()\n",
        "      IQR = df.loc[:,i].quantile(0.75) - df.loc[:,i].quantile(0.25)\n",
        "      perc25 = df.loc[:,i].quantile(0.25)\n",
        "      perc75 = df.loc[:,i].quantile(0.75)\n",
        "      df.loc[:,i].loc[df.loc[:,i].between(perc25 - 1.5*IQR, perc75 + 1.5*IQR)]\n"
      ],
      "execution_count": null,
      "outputs": []
    },
    {
      "cell_type": "code",
      "metadata": {
        "id": "roN9qCAhffY4",
        "colab_type": "code",
        "colab": {
          "base_uri": "https://localhost:8080/",
          "height": 607
        },
        "outputId": "baaaf79d-9273-48f8-f66d-7efd3ef028b2"
      },
      "source": [
        "for_types(df)"
      ],
      "execution_count": null,
      "outputs": [
        {
          "output_type": "stream",
          "text": [
            "В колонке school уникальных значений: 2 \n",
            "Значений, встретившихся в столбце более 30 раз: 2\n",
            "В колонке sex уникальных значений: 2 \n",
            "Значений, встретившихся в столбце более 30 раз: 2\n",
            "В колонке address уникальных значений: 2 \n",
            "Значений, встретившихся в столбце более 30 раз: 2\n",
            "В колонке famsize уникальных значений: 2 \n",
            "Значений, встретившихся в столбце более 30 раз: 2\n",
            "В колонке Pstatus уникальных значений: 2 \n",
            "Значений, встретившихся в столбце более 30 раз: 2\n",
            "В колонке Mjob уникальных значений: 5 \n",
            "Значений, встретившихся в столбце более 30 раз: 5\n",
            "В колонке Fjob уникальных значений: 5 \n",
            "Значений, встретившихся в столбце более 30 раз: 2\n",
            "В колонке reason уникальных значений: 4 \n",
            "Значений, встретившихся в столбце более 30 раз: 4\n",
            "В колонке guardian уникальных значений: 3 \n",
            "Значений, встретившихся в столбце более 30 раз: 2\n",
            "В колонке schoolsup уникальных значений: 2 \n",
            "Значений, встретившихся в столбце более 30 раз: 2\n",
            "В колонке famsup уникальных значений: 2 \n",
            "Значений, встретившихся в столбце более 30 раз: 2\n",
            "В колонке paid уникальных значений: 2 \n",
            "Значений, встретившихся в столбце более 30 раз: 2\n",
            "В колонке activities уникальных значений: 2 \n",
            "Значений, встретившихся в столбце более 30 раз: 2\n",
            "В колонке nursery уникальных значений: 2 \n",
            "Значений, встретившихся в столбце более 30 раз: 2\n",
            "В колонке higher уникальных значений: 2 \n",
            "Значений, встретившихся в столбце более 30 раз: 1\n",
            "В колонке internet уникальных значений: 2 \n",
            "Значений, встретившихся в столбце более 30 раз: 2\n",
            "В колонке romantic уникальных значений: 2 \n",
            "Значений, встретившихся в столбце более 30 раз: 2\n"
          ],
          "name": "stdout"
        }
      ]
    },
    {
      "cell_type": "code",
      "metadata": {
        "id": "m1x55ezvwvvY",
        "colab_type": "code",
        "colab": {
          "base_uri": "https://localhost:8080/",
          "height": 482
        },
        "outputId": "310c4247-356f-45c4-bf9d-8c7cfcc2514e"
      },
      "source": [
        "df.corr()"
      ],
      "execution_count": null,
      "outputs": [
        {
          "output_type": "execute_result",
          "data": {
            "text/html": [
              "<div>\n",
              "<style scoped>\n",
              "    .dataframe tbody tr th:only-of-type {\n",
              "        vertical-align: middle;\n",
              "    }\n",
              "\n",
              "    .dataframe tbody tr th {\n",
              "        vertical-align: top;\n",
              "    }\n",
              "\n",
              "    .dataframe thead th {\n",
              "        text-align: right;\n",
              "    }\n",
              "</style>\n",
              "<table border=\"1\" class=\"dataframe\">\n",
              "  <thead>\n",
              "    <tr style=\"text-align: right;\">\n",
              "      <th></th>\n",
              "      <th>age</th>\n",
              "      <th>Medu</th>\n",
              "      <th>Fedu</th>\n",
              "      <th>traveltime</th>\n",
              "      <th>studytime</th>\n",
              "      <th>failures</th>\n",
              "      <th>studytime, granular</th>\n",
              "      <th>famrel</th>\n",
              "      <th>freetime</th>\n",
              "      <th>goout</th>\n",
              "      <th>health</th>\n",
              "      <th>absences</th>\n",
              "      <th>score</th>\n",
              "    </tr>\n",
              "  </thead>\n",
              "  <tbody>\n",
              "    <tr>\n",
              "      <th>age</th>\n",
              "      <td>1.000000</td>\n",
              "      <td>-0.161704</td>\n",
              "      <td>-0.138018</td>\n",
              "      <td>0.081508</td>\n",
              "      <td>-0.015556</td>\n",
              "      <td>0.228047</td>\n",
              "      <td>0.015556</td>\n",
              "      <td>0.068899</td>\n",
              "      <td>0.029023</td>\n",
              "      <td>0.135107</td>\n",
              "      <td>-0.065946</td>\n",
              "      <td>0.093592</td>\n",
              "      <td>-0.155726</td>\n",
              "    </tr>\n",
              "    <tr>\n",
              "      <th>Medu</th>\n",
              "      <td>-0.161704</td>\n",
              "      <td>1.000000</td>\n",
              "      <td>0.275598</td>\n",
              "      <td>-0.173515</td>\n",
              "      <td>0.078589</td>\n",
              "      <td>-0.245463</td>\n",
              "      <td>-0.078589</td>\n",
              "      <td>-0.010050</td>\n",
              "      <td>0.025335</td>\n",
              "      <td>0.064164</td>\n",
              "      <td>-0.045051</td>\n",
              "      <td>-0.011944</td>\n",
              "      <td>0.213349</td>\n",
              "    </tr>\n",
              "    <tr>\n",
              "      <th>Fedu</th>\n",
              "      <td>-0.138018</td>\n",
              "      <td>0.275598</td>\n",
              "      <td>1.000000</td>\n",
              "      <td>0.030646</td>\n",
              "      <td>0.057199</td>\n",
              "      <td>-0.150821</td>\n",
              "      <td>-0.057199</td>\n",
              "      <td>0.040577</td>\n",
              "      <td>-0.066556</td>\n",
              "      <td>-0.023282</td>\n",
              "      <td>0.027251</td>\n",
              "      <td>0.004695</td>\n",
              "      <td>0.078573</td>\n",
              "    </tr>\n",
              "    <tr>\n",
              "      <th>traveltime</th>\n",
              "      <td>0.081508</td>\n",
              "      <td>-0.173515</td>\n",
              "      <td>0.030646</td>\n",
              "      <td>1.000000</td>\n",
              "      <td>-0.102206</td>\n",
              "      <td>0.064699</td>\n",
              "      <td>0.102206</td>\n",
              "      <td>-0.016857</td>\n",
              "      <td>-0.021937</td>\n",
              "      <td>0.037636</td>\n",
              "      <td>-0.021531</td>\n",
              "      <td>-0.048215</td>\n",
              "      <td>-0.070559</td>\n",
              "    </tr>\n",
              "    <tr>\n",
              "      <th>studytime</th>\n",
              "      <td>-0.015556</td>\n",
              "      <td>0.078589</td>\n",
              "      <td>0.057199</td>\n",
              "      <td>-0.102206</td>\n",
              "      <td>1.000000</td>\n",
              "      <td>-0.178992</td>\n",
              "      <td>-1.000000</td>\n",
              "      <td>0.045894</td>\n",
              "      <td>-0.121969</td>\n",
              "      <td>-0.051280</td>\n",
              "      <td>-0.080016</td>\n",
              "      <td>-0.026544</td>\n",
              "      <td>0.115741</td>\n",
              "    </tr>\n",
              "    <tr>\n",
              "      <th>failures</th>\n",
              "      <td>0.228047</td>\n",
              "      <td>-0.245463</td>\n",
              "      <td>-0.150821</td>\n",
              "      <td>0.064699</td>\n",
              "      <td>-0.178992</td>\n",
              "      <td>1.000000</td>\n",
              "      <td>0.178992</td>\n",
              "      <td>-0.022655</td>\n",
              "      <td>0.098382</td>\n",
              "      <td>0.120914</td>\n",
              "      <td>0.081284</td>\n",
              "      <td>0.057391</td>\n",
              "      <td>-0.344338</td>\n",
              "    </tr>\n",
              "    <tr>\n",
              "      <th>studytime, granular</th>\n",
              "      <td>0.015556</td>\n",
              "      <td>-0.078589</td>\n",
              "      <td>-0.057199</td>\n",
              "      <td>0.102206</td>\n",
              "      <td>-1.000000</td>\n",
              "      <td>0.178992</td>\n",
              "      <td>1.000000</td>\n",
              "      <td>-0.045894</td>\n",
              "      <td>0.121969</td>\n",
              "      <td>0.051280</td>\n",
              "      <td>0.080016</td>\n",
              "      <td>0.026544</td>\n",
              "      <td>-0.115741</td>\n",
              "    </tr>\n",
              "    <tr>\n",
              "      <th>famrel</th>\n",
              "      <td>0.068899</td>\n",
              "      <td>-0.010050</td>\n",
              "      <td>0.040577</td>\n",
              "      <td>-0.016857</td>\n",
              "      <td>0.045894</td>\n",
              "      <td>-0.022655</td>\n",
              "      <td>-0.045894</td>\n",
              "      <td>1.000000</td>\n",
              "      <td>0.175743</td>\n",
              "      <td>0.081154</td>\n",
              "      <td>0.077474</td>\n",
              "      <td>-0.082609</td>\n",
              "      <td>0.057112</td>\n",
              "    </tr>\n",
              "    <tr>\n",
              "      <th>freetime</th>\n",
              "      <td>0.029023</td>\n",
              "      <td>0.025335</td>\n",
              "      <td>-0.066556</td>\n",
              "      <td>-0.021937</td>\n",
              "      <td>-0.121969</td>\n",
              "      <td>0.098382</td>\n",
              "      <td>0.121969</td>\n",
              "      <td>0.175743</td>\n",
              "      <td>1.000000</td>\n",
              "      <td>0.296437</td>\n",
              "      <td>0.061575</td>\n",
              "      <td>0.009292</td>\n",
              "      <td>0.019026</td>\n",
              "    </tr>\n",
              "    <tr>\n",
              "      <th>goout</th>\n",
              "      <td>0.135107</td>\n",
              "      <td>0.064164</td>\n",
              "      <td>-0.023282</td>\n",
              "      <td>0.037636</td>\n",
              "      <td>-0.051280</td>\n",
              "      <td>0.120914</td>\n",
              "      <td>0.051280</td>\n",
              "      <td>0.081154</td>\n",
              "      <td>0.296437</td>\n",
              "      <td>1.000000</td>\n",
              "      <td>-0.015608</td>\n",
              "      <td>-0.048738</td>\n",
              "      <td>-0.129685</td>\n",
              "    </tr>\n",
              "    <tr>\n",
              "      <th>health</th>\n",
              "      <td>-0.065946</td>\n",
              "      <td>-0.045051</td>\n",
              "      <td>0.027251</td>\n",
              "      <td>-0.021531</td>\n",
              "      <td>-0.080016</td>\n",
              "      <td>0.081284</td>\n",
              "      <td>0.080016</td>\n",
              "      <td>0.077474</td>\n",
              "      <td>0.061575</td>\n",
              "      <td>-0.015608</td>\n",
              "      <td>1.000000</td>\n",
              "      <td>-0.016222</td>\n",
              "      <td>-0.070460</td>\n",
              "    </tr>\n",
              "    <tr>\n",
              "      <th>absences</th>\n",
              "      <td>0.093592</td>\n",
              "      <td>-0.011944</td>\n",
              "      <td>0.004695</td>\n",
              "      <td>-0.048215</td>\n",
              "      <td>-0.026544</td>\n",
              "      <td>0.057391</td>\n",
              "      <td>0.026544</td>\n",
              "      <td>-0.082609</td>\n",
              "      <td>0.009292</td>\n",
              "      <td>-0.048738</td>\n",
              "      <td>-0.016222</td>\n",
              "      <td>1.000000</td>\n",
              "      <td>0.065283</td>\n",
              "    </tr>\n",
              "    <tr>\n",
              "      <th>score</th>\n",
              "      <td>-0.155726</td>\n",
              "      <td>0.213349</td>\n",
              "      <td>0.078573</td>\n",
              "      <td>-0.070559</td>\n",
              "      <td>0.115741</td>\n",
              "      <td>-0.344338</td>\n",
              "      <td>-0.115741</td>\n",
              "      <td>0.057112</td>\n",
              "      <td>0.019026</td>\n",
              "      <td>-0.129685</td>\n",
              "      <td>-0.070460</td>\n",
              "      <td>0.065283</td>\n",
              "      <td>1.000000</td>\n",
              "    </tr>\n",
              "  </tbody>\n",
              "</table>\n",
              "</div>"
            ],
            "text/plain": [
              "                          age      Medu      Fedu  traveltime  studytime  \\\n",
              "age                  1.000000 -0.161704 -0.138018    0.081508  -0.015556   \n",
              "Medu                -0.161704  1.000000  0.275598   -0.173515   0.078589   \n",
              "Fedu                -0.138018  0.275598  1.000000    0.030646   0.057199   \n",
              "traveltime           0.081508 -0.173515  0.030646    1.000000  -0.102206   \n",
              "studytime           -0.015556  0.078589  0.057199   -0.102206   1.000000   \n",
              "failures             0.228047 -0.245463 -0.150821    0.064699  -0.178992   \n",
              "studytime, granular  0.015556 -0.078589 -0.057199    0.102206  -1.000000   \n",
              "famrel               0.068899 -0.010050  0.040577   -0.016857   0.045894   \n",
              "freetime             0.029023  0.025335 -0.066556   -0.021937  -0.121969   \n",
              "goout                0.135107  0.064164 -0.023282    0.037636  -0.051280   \n",
              "health              -0.065946 -0.045051  0.027251   -0.021531  -0.080016   \n",
              "absences             0.093592 -0.011944  0.004695   -0.048215  -0.026544   \n",
              "score               -0.155726  0.213349  0.078573   -0.070559   0.115741   \n",
              "\n",
              "                     failures  studytime, granular    famrel  freetime  \\\n",
              "age                  0.228047             0.015556  0.068899  0.029023   \n",
              "Medu                -0.245463            -0.078589 -0.010050  0.025335   \n",
              "Fedu                -0.150821            -0.057199  0.040577 -0.066556   \n",
              "traveltime           0.064699             0.102206 -0.016857 -0.021937   \n",
              "studytime           -0.178992            -1.000000  0.045894 -0.121969   \n",
              "failures             1.000000             0.178992 -0.022655  0.098382   \n",
              "studytime, granular  0.178992             1.000000 -0.045894  0.121969   \n",
              "famrel              -0.022655            -0.045894  1.000000  0.175743   \n",
              "freetime             0.098382             0.121969  0.175743  1.000000   \n",
              "goout                0.120914             0.051280  0.081154  0.296437   \n",
              "health               0.081284             0.080016  0.077474  0.061575   \n",
              "absences             0.057391             0.026544 -0.082609  0.009292   \n",
              "score               -0.344338            -0.115741  0.057112  0.019026   \n",
              "\n",
              "                        goout    health  absences     score  \n",
              "age                  0.135107 -0.065946  0.093592 -0.155726  \n",
              "Medu                 0.064164 -0.045051 -0.011944  0.213349  \n",
              "Fedu                -0.023282  0.027251  0.004695  0.078573  \n",
              "traveltime           0.037636 -0.021531 -0.048215 -0.070559  \n",
              "studytime           -0.051280 -0.080016 -0.026544  0.115741  \n",
              "failures             0.120914  0.081284  0.057391 -0.344338  \n",
              "studytime, granular  0.051280  0.080016  0.026544 -0.115741  \n",
              "famrel               0.081154  0.077474 -0.082609  0.057112  \n",
              "freetime             0.296437  0.061575  0.009292  0.019026  \n",
              "goout                1.000000 -0.015608 -0.048738 -0.129685  \n",
              "health              -0.015608  1.000000 -0.016222 -0.070460  \n",
              "absences            -0.048738 -0.016222  1.000000  0.065283  \n",
              "score               -0.129685 -0.070460  0.065283  1.000000  "
            ]
          },
          "metadata": {
            "tags": []
          },
          "execution_count": 48
        }
      ]
    },
    {
      "cell_type": "markdown",
      "metadata": {
        "id": "HvRXdVjH0rt3",
        "colab_type": "text"
      },
      "source": [
        "Выводы из корреляций:\n",
        "\n",
        "Видно, что studytime и studytime, granular один из столбцов можно удалить\n",
        "\n",
        "Сильнее всего на количество баллов влияет: Образование Матери (Medu), Количество внеучебных неудач (failures) и Время на доп занятия (studytime) - ожидаемо\n",
        "\n",
        "Так же видно, что образование Матери сильнее влияет на результат, чем образование отца. Гипотеза в том, что матерей домохозяек больше чем отцов и они создают этот дисбаланс.\n",
        "\n",
        "Образование родителей так же влияет на Количество внеучебных неудач (failures),что показывает сильное косвенное влияние на результат ЕГЭ (Score)\n",
        "\n",
        "На Время на доп занятия (studytime) оказывает негативное влияние Количество внеучебных неудач (failures), что косвенно показывает важность Образования родителей.\n",
        "\n",
        "\n"
      ]
    },
    {
      "cell_type": "code",
      "metadata": {
        "id": "_8T-W5h0qAV4",
        "colab_type": "code",
        "colab": {
          "base_uri": "https://localhost:8080/",
          "height": 121
        },
        "outputId": "6a91c6ea-9bae-43f3-c656-19d4c24220d2"
      },
      "source": [
        "df.columns"
      ],
      "execution_count": null,
      "outputs": [
        {
          "output_type": "execute_result",
          "data": {
            "text/plain": [
              "Index(['school', 'sex', 'age', 'address', 'famsize', 'Pstatus', 'Medu', 'Fedu',\n",
              "       'Mjob', 'Fjob', 'reason', 'guardian', 'traveltime', 'studytime',\n",
              "       'failures', 'schoolsup', 'famsup', 'paid', 'activities', 'nursery',\n",
              "       'studytime, granular', 'higher', 'internet', 'romantic', 'famrel',\n",
              "       'freetime', 'goout', 'health', 'absences', 'score'],\n",
              "      dtype='object')"
            ]
          },
          "metadata": {
            "tags": []
          },
          "execution_count": 8
        }
      ]
    },
    {
      "cell_type": "code",
      "metadata": {
        "id": "t84vYeVF0I0F",
        "colab_type": "code",
        "colab": {}
      },
      "source": [
        "df.drop(['studytime, granular'], inplace = True, axis = 1)"
      ],
      "execution_count": null,
      "outputs": []
    },
    {
      "cell_type": "code",
      "metadata": {
        "id": "Ldt0tIzoqGS-",
        "colab_type": "code",
        "colab": {
          "base_uri": "https://localhost:8080/",
          "height": 121
        },
        "outputId": "687d2c57-1b67-412c-a34c-de88b823fe68"
      },
      "source": [
        "df.columns"
      ],
      "execution_count": null,
      "outputs": [
        {
          "output_type": "execute_result",
          "data": {
            "text/plain": [
              "Index(['school', 'sex', 'age', 'address', 'famsize', 'Pstatus', 'Medu', 'Fedu',\n",
              "       'Mjob', 'Fjob', 'reason', 'guardian', 'traveltime', 'studytime',\n",
              "       'failures', 'schoolsup', 'famsup', 'paid', 'activities', 'nursery',\n",
              "       'higher', 'internet', 'romantic', 'famrel', 'freetime', 'goout',\n",
              "       'health', 'absences', 'score'],\n",
              "      dtype='object')"
            ]
          },
          "metadata": {
            "tags": []
          },
          "execution_count": 50
        }
      ]
    },
    {
      "cell_type": "markdown",
      "metadata": {
        "id": "Z9WXnoS3tre6",
        "colab_type": "text"
      },
      "source": [
        "У нас есть 17 номинативных переменных, их колличество варируется от 2 до 6"
      ]
    },
    {
      "cell_type": "markdown",
      "metadata": {
        "id": "K2OmxILzvzdD",
        "colab_type": "text"
      },
      "source": [
        "Создадим список номинативных переменных"
      ]
    },
    {
      "cell_type": "code",
      "metadata": {
        "id": "AL8iJuD1vTEL",
        "colab_type": "code",
        "colab": {
          "base_uri": "https://localhost:8080/",
          "height": 312
        },
        "outputId": "944be419-c724-42ed-ce0b-dbf05f395acd"
      },
      "source": [
        "str_column = []\n",
        "for i in df.columns:\n",
        "    if df.loc[:, i].dtype == 'O':\n",
        "      str_column.append(i)\n",
        "str_column"
      ],
      "execution_count": null,
      "outputs": [
        {
          "output_type": "execute_result",
          "data": {
            "text/plain": [
              "['school',\n",
              " 'sex',\n",
              " 'address',\n",
              " 'famsize',\n",
              " 'Pstatus',\n",
              " 'Mjob',\n",
              " 'Fjob',\n",
              " 'reason',\n",
              " 'guardian',\n",
              " 'schoolsup',\n",
              " 'famsup',\n",
              " 'paid',\n",
              " 'activities',\n",
              " 'nursery',\n",
              " 'higher',\n",
              " 'internet',\n",
              " 'romantic']"
            ]
          },
          "metadata": {
            "tags": []
          },
          "execution_count": 51
        }
      ]
    },
    {
      "cell_type": "markdown",
      "metadata": {
        "id": "PJoj53nHv5aD",
        "colab_type": "text"
      },
      "source": [
        "И функцию для отрисовки диаграммы размаха"
      ]
    },
    {
      "cell_type": "code",
      "metadata": {
        "id": "jWgpWlKMqIEk",
        "colab_type": "code",
        "colab": {}
      },
      "source": [
        "def get_boxplot(column):\n",
        "    fig, ax = plt.subplots(figsize = (14, 4))\n",
        "    sns.boxplot(x=column, y='score', \n",
        "                data=df.loc[df.loc[:, column].isin(df.loc[:, column].value_counts().index[:(df.loc[:, column].value_counts()>30).sum()])],\n",
        "               ax=ax)\n",
        "    plt.xticks(rotation=45)\n",
        "    ax.set_title('Boxplot for ' + column)\n",
        "    plt.show()"
      ],
      "execution_count": null,
      "outputs": []
    },
    {
      "cell_type": "code",
      "metadata": {
        "id": "aEJtoyqovHhF",
        "colab_type": "code",
        "colab": {
          "base_uri": "https://localhost:8080/",
          "height": 1000
        },
        "outputId": "1599733a-88b8-4b87-8b39-7ec6109d172a"
      },
      "source": [
        "for col in str_column:\n",
        "  get_boxplot(col)"
      ],
      "execution_count": null,
      "outputs": [
        {
          "output_type": "display_data",
          "data": {
            "image/png": "[encoded data removed]",
            "text/plain": [
              "<Figure size 1008x288 with 1 Axes>"
            ]
          },
          "metadata": {
            "tags": [],
            "needs_background": "light"
          }
        },
        {
          "output_type": "display_data",
          "data": {
            "image/png": "[encoded data removed]",
            "text/plain": [
              "<Figure size 1008x288 with 1 Axes>"
            ]
          },
          "metadata": {
            "tags": [],
            "needs_background": "light"
          }
        },
        {
          "output_type": "display_data",
          "data": {
            "image/png": "[encoded data removed]",
            "text/plain": [
              "<Figure size 1008x288 with 1 Axes>"
            ]
          },
          "metadata": {
            "tags": [],
            "needs_background": "light"
          }
        },
        {
          "output_type": "display_data",
          "data": {
            "image/png": "[encoded data removed]",
            "text/plain": [
              "<Figure size 1008x288 with 1 Axes>"
            ]
          },
          "metadata": {
            "tags": [],
            "needs_background": "light"
          }
        },
        {
          "output_type": "display_data",
          "data": {
            "image/png": "[encoded data removed]",
            "text/plain": [
              "<Figure size 1008x288 with 1 Axes>"
            ]
          },
          "metadata": {
            "tags": [],
            "needs_background": "light"
          }
        },
        {
          "output_type": "display_data",
          "data": {
            "image/png": "[encoded data removed]",
            "text/plain": [
              "<Figure size 1008x288 with 1 Axes>"
            ]
          },
          "metadata": {
            "tags": [],
            "needs_background": "light"
          }
        },
        {
          "output_type": "display_data",
          "data": {
            "image/png": "[encoded data removed]",
            "text/plain": [
              "<Figure size 1008x288 with 1 Axes>"
            ]
          },
          "metadata": {
            "tags": [],
            "needs_background": "light"
          }
        },
        {
          "output_type": "display_data",
          "data": {
            "image/png": "[encoded data removed]",
            "text/plain": [
              "<Figure size 1008x288 with 1 Axes>"
            ]
          },
          "metadata": {
            "tags": [],
            "needs_background": "light"
          }
        },
        {
          "output_type": "display_data",
          "data": {
            "image/png": "[encoded data removed]",
            "text/plain": [
              "<Figure size 1008x288 with 1 Axes>"
            ]
          },
          "metadata": {
            "tags": [],
            "needs_background": "light"
          }
        },
        {
          "output_type": "display_data",
          "data": {
            "image/png": "[encoded data removed]",
            "text/plain": [
              "<Figure size 1008x288 with 1 Axes>"
            ]
          },
          "metadata": {
            "tags": [],
            "needs_background": "light"
          }
        },
        {
          "output_type": "display_data",
          "data": {
            "image/png": "[encoded data removed]",
            "text/plain": [
              "<Figure size 1008x288 with 1 Axes>"
            ]
          },
          "metadata": {
            "tags": [],
            "needs_background": "light"
          }
        },
        {
          "output_type": "display_data",
          "data": {
            "image/png": "[encoded data removed]",
            "text/plain": [
              "<Figure size 1008x288 with 1 Axes>"
            ]
          },
          "metadata": {
            "tags": [],
            "needs_background": "light"
          }
        },
        {
          "output_type": "display_data",
          "data": {
            "image/png": "[encoded data removed]",
            "text/plain": [
              "<Figure size 1008x288 with 1 Axes>"
            ]
          },
          "metadata": {
            "tags": [],
            "needs_background": "light"
          }
        },
        {
          "output_type": "display_data",
          "data": {
            "image/png": "[encoded data removed]",
            "text/plain": [
              "<Figure size 1008x288 with 1 Axes>"
            ]
          },
          "metadata": {
            "tags": [],
            "needs_background": "light"
          }
        },
        {
          "output_type": "display_data",
          "data": {
            "image/png": "[encoded data removed]",
            "text/plain": [
              "<Figure size 1008x288 with 1 Axes>"
            ]
          },
          "metadata": {
            "tags": [],
            "needs_background": "light"
          }
        },
        {
          "output_type": "display_data",
          "data": {
            "image/png": "[encoded data removed]",
            "text/plain": [
              "<Figure size 1008x288 with 1 Axes>"
            ]
          },
          "metadata": {
            "tags": [],
            "needs_background": "light"
          }
        },
        {
          "output_type": "display_data",
          "data": {
            "image/png": "[encoded data removed]",
            "text/plain": [
              "<Figure size 1008x288 with 1 Axes>"
            ]
          },
          "metadata": {
            "tags": [],
            "needs_background": "light"
          }
        }
      ]
    },
    {
      "cell_type": "markdown",
      "metadata": {
        "id": "EF6sLsy5QtkW",
        "colab_type": "text"
      },
      "source": [
        "Мы видим отличия в средних результатах показаниях по следующим показателям: \n",
        "School (GP > MS), address (U>R),MJob (Health >> others), Schoolsup (No > Yes) Internet (Yes > No)"
      ]
    },
    {
      "cell_type": "markdown",
      "metadata": {
        "id": "WmCLnL_OR2VA",
        "colab_type": "text"
      },
      "source": [
        "Проведём оценку с помощью теста Стьюдента. За 0 гипотезу примем, то что параметры имеют одинаковый вес на результат ЕГЭ"
      ]
    },
    {
      "cell_type": "code",
      "metadata": {
        "id": "SNoFeXq4Q08x",
        "colab_type": "code",
        "colab": {}
      },
      "source": [
        "def get_stat_dif(column):\n",
        "    cols = df.loc[:, column].value_counts().index[:(df.loc[:, column].value_counts()>30).sum()]\n",
        "    combinations_all = list(combinations(cols, 2))\n",
        "    for comb in combinations_all:\n",
        "        if ttest_ind(df.loc[df.loc[:, column] == comb[0], 'score'], \n",
        "                        df.loc[df.loc[:, column] == comb[1], 'score']).pvalue \\\n",
        "            <= 0.05/len(combinations_all): # Учли поправку Бонферони\n",
        "            print('Найдены статистически значимые различия для колонки', column)\n",
        "            break"
      ],
      "execution_count": null,
      "outputs": []
    },
    {
      "cell_type": "code",
      "metadata": {
        "id": "UA6eE0L1PZnB",
        "colab_type": "code",
        "colab": {
          "base_uri": "https://localhost:8080/",
          "height": 35
        },
        "outputId": "96c3560b-4014-42a3-89f4-98b4f076f838"
      },
      "source": [
        "for col in str_column:\n",
        "  get_stat_dif(col)"
      ],
      "execution_count": null,
      "outputs": [
        {
          "output_type": "stream",
          "text": [
            "Найдены статистически значимые различия для колонки Mjob\n"
          ],
          "name": "stdout"
        }
      ]
    },
    {
      "cell_type": "markdown",
      "metadata": {
        "id": "StMfuE4oF8e8",
        "colab_type": "text"
      },
      "source": [
        " в нашем случае важные переменные, которые, возможно, оказывают влияние на оценку score, это: Mjob, Medu, failures и studytime"
      ]
    },
    {
      "cell_type": "code",
      "metadata": {
        "id": "SLFzJhf7DfHK",
        "colab_type": "code",
        "colab": {
          "base_uri": "https://localhost:8080/",
          "height": 202
        },
        "outputId": "d6109dd3-87af-4f2d-86ac-70743b8da17c"
      },
      "source": [
        "df_for_model = df.loc[:, ['Mjob', 'Medu', 'failures', 'studytime', 'score']]\n",
        "df_for_model.head()"
      ],
      "execution_count": null,
      "outputs": [
        {
          "output_type": "execute_result",
          "data": {
            "text/html": [
              "<div>\n",
              "<style scoped>\n",
              "    .dataframe tbody tr th:only-of-type {\n",
              "        vertical-align: middle;\n",
              "    }\n",
              "\n",
              "    .dataframe tbody tr th {\n",
              "        vertical-align: top;\n",
              "    }\n",
              "\n",
              "    .dataframe thead th {\n",
              "        text-align: right;\n",
              "    }\n",
              "</style>\n",
              "<table border=\"1\" class=\"dataframe\">\n",
              "  <thead>\n",
              "    <tr style=\"text-align: right;\">\n",
              "      <th></th>\n",
              "      <th>Mjob</th>\n",
              "      <th>Medu</th>\n",
              "      <th>failures</th>\n",
              "      <th>studytime</th>\n",
              "      <th>score</th>\n",
              "    </tr>\n",
              "  </thead>\n",
              "  <tbody>\n",
              "    <tr>\n",
              "      <th>0</th>\n",
              "      <td>at_home</td>\n",
              "      <td>4.0</td>\n",
              "      <td>0.0</td>\n",
              "      <td>2.0</td>\n",
              "      <td>30.0</td>\n",
              "    </tr>\n",
              "    <tr>\n",
              "      <th>1</th>\n",
              "      <td>at_home</td>\n",
              "      <td>1.0</td>\n",
              "      <td>0.0</td>\n",
              "      <td>2.0</td>\n",
              "      <td>30.0</td>\n",
              "    </tr>\n",
              "    <tr>\n",
              "      <th>2</th>\n",
              "      <td>at_home</td>\n",
              "      <td>1.0</td>\n",
              "      <td>3.0</td>\n",
              "      <td>2.0</td>\n",
              "      <td>50.0</td>\n",
              "    </tr>\n",
              "    <tr>\n",
              "      <th>3</th>\n",
              "      <td>health</td>\n",
              "      <td>4.0</td>\n",
              "      <td>0.0</td>\n",
              "      <td>3.0</td>\n",
              "      <td>75.0</td>\n",
              "    </tr>\n",
              "    <tr>\n",
              "      <th>4</th>\n",
              "      <td>other</td>\n",
              "      <td>3.0</td>\n",
              "      <td>0.0</td>\n",
              "      <td>2.0</td>\n",
              "      <td>50.0</td>\n",
              "    </tr>\n",
              "  </tbody>\n",
              "</table>\n",
              "</div>"
            ],
            "text/plain": [
              "      Mjob  Medu  failures  studytime  score\n",
              "0  at_home   4.0       0.0        2.0   30.0\n",
              "1  at_home   1.0       0.0        2.0   30.0\n",
              "2  at_home   1.0       3.0        2.0   50.0\n",
              "3   health   4.0       0.0        3.0   75.0\n",
              "4    other   3.0       0.0        2.0   50.0"
            ]
          },
          "metadata": {
            "tags": []
          },
          "execution_count": 60
        }
      ]
    },
    {
      "cell_type": "markdown",
      "metadata": {
        "id": "GI9Jx8klHrLu",
        "colab_type": "text"
      },
      "source": [
        "Итак, время итогов:\n",
        "\n",
        "1) Сильнее всего на оценку оказывает влияние мама. А именно её образование и работа. Образование отцов оказывает примероно в 3 раза меньшее влияние.\n",
        "\n",
        "2) Малое колличество  групп  номинативных переменных делает логичным отсечение значений с менее 30 повторами (статистически не значимых)\n",
        "\n",
        "3) Параметрами, которые оказывают наибольшее влияние на оценку по ЕГЭ оказались Mjob, Medu, failures и studytime\n",
        "\n",
        "4) Анализ корреляций показывает зависимость failures и studytime от Medu\n",
        "\n",
        "5) Видно, что с возрастом, оценка по ЕГЭ ухудшается. Это, возможно связано, с тем, что стдающий тест начинает проводить больше времени с друзьями (пряма корреляция с goout) и тратит меньше времени на подготовку (Обратная корреляция со studytime)"
      ]
    },
    {
      "cell_type": "code",
      "metadata": {
        "id": "qrgkOLHkLqHn",
        "colab_type": "code",
        "colab": {}
      },
      "source": [
        ""
      ],
      "execution_count": null,
      "outputs": []
    }
  ]
}